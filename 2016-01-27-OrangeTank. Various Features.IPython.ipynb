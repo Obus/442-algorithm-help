{
 "cells": [
  {
   "cell_type": "code",
   "execution_count": 1,
   "metadata": {
    "collapsed": true
   },
   "outputs": [],
   "source": [
    "ROOT_DIR = '2016-01-27-OrangeTank-5galSteps'"
   ]
  },
  {
   "cell_type": "code",
   "execution_count": 3,
   "metadata": {
    "collapsed": false
   },
   "outputs": [],
   "source": [
    "import os\n",
    "import itertools\n",
    "import pandas as pd\n",
    "import numpy as np\n",
    "import datetime\n",
    "import re\n",
    "\n",
    "\n",
    "def parse_datetime(line):\n",
    "    return datetime.datetime.strptime(line[5:], '%Y-%m-%d %H:%M:%S.%f')\n",
    "\n",
    "\n",
    "def parse_temperature(line):\n",
    "    return float(line[14:-3])\n",
    "\n",
    "\n",
    "def parse_pressure(line):\n",
    "    return float(line[22:-5])\n",
    "\n",
    "\n",
    "def parse_battery_voltage(line):\n",
    "    return float(line[24:-6])\n",
    "\n",
    "\n",
    "def parse_pot_setting(line):\n",
    "    values = re.sub(r'[A-z;=>:]', ' ', line.replace('POT1', '').replace('POT2', '')).split()\n",
    "    return map(float, values)\n",
    "\n",
    "def parse_gallons(gal_dir_name):\n",
    "    return float(re.sub(r'[^\\d]', '', gal_dir_name))\n",
    "\n",
    "\n",
    "def yield_gallon_dir(sample_dir, root_dir=ROOT_DIR):\n",
    "    gallons = parse_gallons(sample_dir)\n",
    "    sample_files = os.listdir(os.path.join(root_dir, sample_dir))\n",
    "    for sample_file in sample_files:\n",
    "        with open(os.path.join(root_dir, sample_dir, sample_file)) as f:\n",
    "            lines = map(lambda l: l[:-1], f)\n",
    "            pot_values = parse_pot_setting(lines[4])\n",
    "            yield {\n",
    "                'gallons': gallons,\n",
    "                'datetime': parse_datetime(lines[0]),\n",
    "                'temperature': parse_temperature(lines[1]),\n",
    "                'pressure': parse_pressure(lines[2]),\n",
    "                'battery_voltage': parse_battery_voltage(lines[3]),\n",
    "                'pot_setting1': pot_values[0],\n",
    "                'pot_setting2': pot_values[1],\n",
    "                'pot_setting3': pot_values[2],\n",
    "                'sample': np.array(map(int, lines[5:]))\n",
    "            } "
   ]
  },
  {
   "cell_type": "code",
   "execution_count": 4,
   "metadata": {
    "collapsed": false
   },
   "outputs": [
    {
     "name": "stdout",
     "output_type": "stream",
     "text": [
      "(1840, 9)\n"
     ]
    },
    {
     "data": {
      "text/html": [
       "<div>\n",
       "<table border=\"1\" class=\"dataframe\">\n",
       "  <thead>\n",
       "    <tr style=\"text-align: right;\">\n",
       "      <th></th>\n",
       "      <th>battery_voltage</th>\n",
       "      <th>datetime</th>\n",
       "      <th>gallons</th>\n",
       "      <th>pot_setting1</th>\n",
       "      <th>pot_setting2</th>\n",
       "      <th>pot_setting3</th>\n",
       "      <th>pressure</th>\n",
       "      <th>sample</th>\n",
       "      <th>temperature</th>\n",
       "    </tr>\n",
       "  </thead>\n",
       "  <tbody>\n",
       "    <tr>\n",
       "      <th>112</th>\n",
       "      <td>6.10</td>\n",
       "      <td>2016-01-27 16:35:48.827166</td>\n",
       "      <td>5</td>\n",
       "      <td>192</td>\n",
       "      <td>127</td>\n",
       "      <td>12.5</td>\n",
       "      <td>29.09</td>\n",
       "      <td>[4095, 907, 2050, 1861, 3459, 76, 2682, 4095, ...</td>\n",
       "      <td>15.2</td>\n",
       "    </tr>\n",
       "    <tr>\n",
       "      <th>1033</th>\n",
       "      <td>6.15</td>\n",
       "      <td>2016-01-30 14:28:09.656167</td>\n",
       "      <td>215</td>\n",
       "      <td>192</td>\n",
       "      <td>127</td>\n",
       "      <td>12.5</td>\n",
       "      <td>28.60</td>\n",
       "      <td>[67, 4095, 2159, 1089, 1858, 2724, 1294, 4095,...</td>\n",
       "      <td>20.2</td>\n",
       "    </tr>\n",
       "    <tr>\n",
       "      <th>1301</th>\n",
       "      <td>6.12</td>\n",
       "      <td>2016-01-28 21:31:31.347850</td>\n",
       "      <td>100</td>\n",
       "      <td>192</td>\n",
       "      <td>127</td>\n",
       "      <td>12.5</td>\n",
       "      <td>28.47</td>\n",
       "      <td>[277, 3150, 3791, 2554, 129, 4095, 1603, 1616,...</td>\n",
       "      <td>15.3</td>\n",
       "    </tr>\n",
       "    <tr>\n",
       "      <th>72</th>\n",
       "      <td>6.11</td>\n",
       "      <td>2016-01-30 15:23:17.438419</td>\n",
       "      <td>225</td>\n",
       "      <td>192</td>\n",
       "      <td>127</td>\n",
       "      <td>12.5</td>\n",
       "      <td>28.60</td>\n",
       "      <td>[4095, 1758, 1458, 1240, 4095, 1183, 2443, 361...</td>\n",
       "      <td>15.6</td>\n",
       "    </tr>\n",
       "    <tr>\n",
       "      <th>1659</th>\n",
       "      <td>5.92</td>\n",
       "      <td>2016-01-29 23:34:57.996422</td>\n",
       "      <td>210</td>\n",
       "      <td>192</td>\n",
       "      <td>127</td>\n",
       "      <td>12.5</td>\n",
       "      <td>28.84</td>\n",
       "      <td>[1452, 3283, 580, 4095, 848, 1017, 1999, 1897,...</td>\n",
       "      <td>10.0</td>\n",
       "    </tr>\n",
       "    <tr>\n",
       "      <th>452</th>\n",
       "      <td>6.10</td>\n",
       "      <td>2016-01-28 22:14:38.541464</td>\n",
       "      <td>110</td>\n",
       "      <td>192</td>\n",
       "      <td>127</td>\n",
       "      <td>12.5</td>\n",
       "      <td>28.48</td>\n",
       "      <td>[1235, 1224, 2654, 2232, 1129, 3208, 2515, 409...</td>\n",
       "      <td>14.9</td>\n",
       "    </tr>\n",
       "    <tr>\n",
       "      <th>589</th>\n",
       "      <td>6.06</td>\n",
       "      <td>2016-01-27 17:00:06.801747</td>\n",
       "      <td>10</td>\n",
       "      <td>192</td>\n",
       "      <td>127</td>\n",
       "      <td>12.5</td>\n",
       "      <td>29.09</td>\n",
       "      <td>[1240, 3411, 996, 1432, 4055, 1699, 357, 3631,...</td>\n",
       "      <td>14.6</td>\n",
       "    </tr>\n",
       "    <tr>\n",
       "      <th>141</th>\n",
       "      <td>6.00</td>\n",
       "      <td>2016-01-27 20:52:09.988623</td>\n",
       "      <td>55</td>\n",
       "      <td>192</td>\n",
       "      <td>127</td>\n",
       "      <td>12.5</td>\n",
       "      <td>28.98</td>\n",
       "      <td>[4095, 1399, 2633, 1866, 3558, 175, 2279, 3960...</td>\n",
       "      <td>12.7</td>\n",
       "    </tr>\n",
       "    <tr>\n",
       "      <th>696</th>\n",
       "      <td>5.91</td>\n",
       "      <td>2016-01-29 22:33:14.649623</td>\n",
       "      <td>200</td>\n",
       "      <td>192</td>\n",
       "      <td>127</td>\n",
       "      <td>12.5</td>\n",
       "      <td>28.85</td>\n",
       "      <td>[1110, 4095, 915, 1930, 4095, 401, 3262, 4037,...</td>\n",
       "      <td>11.2</td>\n",
       "    </tr>\n",
       "    <tr>\n",
       "      <th>1360</th>\n",
       "      <td>6.09</td>\n",
       "      <td>2016-01-28 22:36:28.352437</td>\n",
       "      <td>115</td>\n",
       "      <td>192</td>\n",
       "      <td>127</td>\n",
       "      <td>12.5</td>\n",
       "      <td>28.48</td>\n",
       "      <td>[4095, 2013, 2725, 1049, 3400, 1101, 2547, 282...</td>\n",
       "      <td>14.6</td>\n",
       "    </tr>\n",
       "  </tbody>\n",
       "</table>\n",
       "</div>"
      ],
      "text/plain": [
       "      battery_voltage                   datetime  gallons  pot_setting1  \\\n",
       "112              6.10 2016-01-27 16:35:48.827166        5           192   \n",
       "1033             6.15 2016-01-30 14:28:09.656167      215           192   \n",
       "1301             6.12 2016-01-28 21:31:31.347850      100           192   \n",
       "72               6.11 2016-01-30 15:23:17.438419      225           192   \n",
       "1659             5.92 2016-01-29 23:34:57.996422      210           192   \n",
       "452              6.10 2016-01-28 22:14:38.541464      110           192   \n",
       "589              6.06 2016-01-27 17:00:06.801747       10           192   \n",
       "141              6.00 2016-01-27 20:52:09.988623       55           192   \n",
       "696              5.91 2016-01-29 22:33:14.649623      200           192   \n",
       "1360             6.09 2016-01-28 22:36:28.352437      115           192   \n",
       "\n",
       "      pot_setting2  pot_setting3  pressure  \\\n",
       "112            127          12.5     29.09   \n",
       "1033           127          12.5     28.60   \n",
       "1301           127          12.5     28.47   \n",
       "72             127          12.5     28.60   \n",
       "1659           127          12.5     28.84   \n",
       "452            127          12.5     28.48   \n",
       "589            127          12.5     29.09   \n",
       "141            127          12.5     28.98   \n",
       "696            127          12.5     28.85   \n",
       "1360           127          12.5     28.48   \n",
       "\n",
       "                                                 sample  temperature  \n",
       "112   [4095, 907, 2050, 1861, 3459, 76, 2682, 4095, ...         15.2  \n",
       "1033  [67, 4095, 2159, 1089, 1858, 2724, 1294, 4095,...         20.2  \n",
       "1301  [277, 3150, 3791, 2554, 129, 4095, 1603, 1616,...         15.3  \n",
       "72    [4095, 1758, 1458, 1240, 4095, 1183, 2443, 361...         15.6  \n",
       "1659  [1452, 3283, 580, 4095, 848, 1017, 1999, 1897,...         10.0  \n",
       "452   [1235, 1224, 2654, 2232, 1129, 3208, 2515, 409...         14.9  \n",
       "589   [1240, 3411, 996, 1432, 4055, 1699, 357, 3631,...         14.6  \n",
       "141   [4095, 1399, 2633, 1866, 3558, 175, 2279, 3960...         12.7  \n",
       "696   [1110, 4095, 915, 1930, 4095, 401, 3262, 4037,...         11.2  \n",
       "1360  [4095, 2013, 2725, 1049, 3400, 1101, 2547, 282...         14.6  "
      ]
     },
     "execution_count": 4,
     "metadata": {},
     "output_type": "execute_result"
    }
   ],
   "source": [
    "samples_dirs = filter(lambda d: d.endswith('gallon'), os.listdir(ROOT_DIR))\n",
    "\n",
    "\n",
    "samples_df = pd.DataFrame(list(\n",
    "    itertools.chain.from_iterable((yield_gallon_dir(d, ROOT_DIR) for d in samples_dirs))\n",
    "))\n",
    "\n",
    "print samples_df.shape\n",
    "samples_df.sample(10)"
   ]
  },
  {
   "cell_type": "code",
   "execution_count": 5,
   "metadata": {
    "collapsed": false
   },
   "outputs": [
    {
     "name": "stdout",
     "output_type": "stream",
     "text": [
      "Populating the interactive namespace from numpy and matplotlib\n"
     ]
    },
    {
     "name": "stderr",
     "output_type": "stream",
     "text": [
      "/home/obus/.venv/local/lib/python2.7/site-packages/matplotlib/__init__.py:872: UserWarning: axes.color_cycle is deprecated and replaced with axes.prop_cycle; please use the latter.\n",
      "  warnings.warn(self.msg_depr % (key, alt_key))\n",
      "WARNING: pylab import has clobbered these variables: ['pylab']\n",
      "`%matplotlib` prevents importing * from pylab and numpy\n"
     ]
    }
   ],
   "source": [
    "import scipy as sp\n",
    "import sklearn\n",
    "import sklearn.cross_validation\n",
    "import sklearn.linear_model\n",
    "import sklearn.metrics\n",
    "\n",
    "import matplotlib.pyplot as plt\n",
    "import pylab\n",
    "import seaborn as sns\n",
    "%matplotlib inline\n",
    "%pylab inline\n",
    "pylab.rcParams['figure.figsize'] = (19, 5)\n",
    "\n",
    "\n",
    "def list_to_matrix(list_like):\n",
    "    if sp.sparse.issparse(list_like[0]):\n",
    "        return sp.sparse.vstack(list_like)\n",
    "    else:\n",
    "        return np.vstack(list_like)\n",
    "\n",
    "    \n",
    "\n",
    "def vectorize(df):\n",
    "    df_columns = [df.ix[:, i].values for i in range(df.shape[1])]\n",
    "    df_matrixes = map(list_to_matrix, df_columns)\n",
    "\n",
    "    if any([sp.sparse.issparse(m) for m in df_matrixes]):\n",
    "        X = sp.sparse.hstack(df_matrixes).tocsr()\n",
    "    else:\n",
    "        X = np.hstack(df_matrixes)\n",
    "    return X\n",
    "\n",
    "\n",
    "def regression_report(model, X, y):\n",
    "    y_pred = model.predict(X)\n",
    "    \n",
    "    print '\\t MSE: {:.3f}'.format(sklearn.metrics.mean_squared_error(y, y_pred))\n",
    "    print '\\t MAE: {:.3f}'.format(sklearn.metrics.mean_absolute_error(y, y_pred))\n",
    "#     print '\\t R2: {:.2f}'.format(sklearn.metrics.r2_score(y, y_pred))\n",
    "    \n",
    "    print '\\t Relative MSE: {:.5f}'.format(sklearn.metrics.mean_squared_error(y / 225, y_pred / 225))\n",
    "    print '\\t Relative MAE: {:.5f}'.format(sklearn.metrics.mean_absolute_error(y / 225, y_pred / 225))\n",
    "    \n",
    "    \n",
    "def regression_report_train_valid(model, X_train, X_valid, y_train, y_valid, fit=True):\n",
    "    if fit==True:\n",
    "        model.fit(X_train, y_train)\n",
    "    print 'Train:'\n",
    "    regression_report(model, X_train, y_train)\n",
    "    print 'Valid:'\n",
    "    regression_report(model, X_valid, y_valid)\n",
    "    \n",
    "    y_valid_pred = model.predict(X_valid)\n",
    "    plt.figure(figsize=(6, 4))\n",
    "    sns.distplot(y_valid - y_valid_pred, bins=40, label='AAA', axlabel='Validation residuals')"
   ]
  },
  {
   "cell_type": "code",
   "execution_count": 84,
   "metadata": {
    "collapsed": false
   },
   "outputs": [
    {
     "data": {
      "text/plain": [
       "array([ 1.14101294,  1.14948323,  0.87494975, ...,  0.91605841,\n",
       "        0.81110347,  0.96708112])"
      ]
     },
     "execution_count": 84,
     "metadata": {},
     "output_type": "execute_result"
    }
   ],
   "source": [
    "np.exp(0.1 * X_raw_train[0,:])"
   ]
  },
  {
   "cell_type": "code",
   "execution_count": 86,
   "metadata": {
    "collapsed": false
   },
   "outputs": [],
   "source": [
    "import sklearn.base\n",
    "\n",
    "class ExpTransformer(sklearn.base.TransformerMixin):\n",
    "    \n",
    "    def fit(self, X):\n",
    "        return self\n",
    "    \n",
    "    def transform(self, X):\n",
    "        return np.exp(X * 0.1)"
   ]
  },
  {
   "cell_type": "code",
   "execution_count": 87,
   "metadata": {
    "collapsed": false
   },
   "outputs": [
    {
     "name": "stderr",
     "output_type": "stream",
     "text": [
      "/home/obus/.venv/local/lib/python2.7/site-packages/sklearn/utils/validation.py:420: DataConversionWarning: Data with input dtype int64 was converted to float64 by StandardScaler.\n",
      "  warnings.warn(msg, DataConversionWarning)\n",
      "/home/obus/.venv/local/lib/python2.7/site-packages/sklearn/utils/validation.py:420: DataConversionWarning: Data with input dtype int64 was converted to float64 by StandardScaler.\n",
      "  warnings.warn(msg, DataConversionWarning)\n"
     ]
    },
    {
     "name": "stdout",
     "output_type": "stream",
     "text": [
      "Train size: 1288, validation size: 552\n"
     ]
    }
   ],
   "source": [
    "scaler = sklearn.preprocessing.StandardScaler()\n",
    "\n",
    "X_raw = np.vstack(samples_df['sample'].values)\n",
    "X_raw = scaler.fit_transform(X_raw)\n",
    "\n",
    "y = samples_df.gallons.values\n",
    "\n",
    "X_raw_train, X_raw_valid, y_train, y_valid = sklearn.cross_validation.train_test_split(\n",
    "    X_raw, y, train_size=0.7, random_state=419)\n",
    "\n",
    "\n",
    "import sklearn.feature_extraction\n",
    "import sklearn.decomposition\n",
    "import sklearn.pipeline\n",
    "svd = sklearn.decomposition.TruncatedSVD(\n",
    "    n_components=20, \n",
    "    random_state=419,\n",
    "    algorithm='randomized'\n",
    ")\n",
    "tfidf_svd = sklearn.pipeline.Pipeline([\n",
    "        ('tfidf', sklearn.feature_extraction.text.TfidfTransformer),\n",
    "        ('svd', sklearn.decomposition.TruncatedSVD(\n",
    "            n_components=20, \n",
    "            random_state=419,\n",
    "            algorithm='randomized'\n",
    "        ))\n",
    "        ])\n",
    "nmf = sklearn.pipeline.Pipeline([\n",
    "        ('exp', ExpTransformer()),\n",
    "        ('nmf', sklearn.decomposition.NMF(n_components=20))\n",
    "        ])\n",
    "nmf_reg = sklearn.pipeline.Pipeline([\n",
    "        ('exp', ExpTransformer()),\n",
    "        ('nmf', sklearn.decomposition.NMF(n_components=20, l1_ratio=0.5, alpha=0.1))\n",
    "        ])\n",
    "ica = sklearn.decomposition.FastICA(n_components=20)\n",
    "\n",
    "feature_extraction = sklearn.pipeline.FeatureUnion([\n",
    "        ('svd', svd),\n",
    "#         ('tfidf_svd', tfidf_svd),\n",
    "        ('nmf', nmf),\n",
    "        ('nmf_reg', nmf_reg),\n",
    "        ('ica', ica)\n",
    "    ])\n",
    "\n",
    "X_train = feature_extraction.fit_transform(X_raw_train)\n",
    "X_valid = feature_extraction.transform(X_raw_valid)\n",
    "\n",
    "\n",
    "print 'Train size: {0}, validation size: {1}'.format(X_train.shape[0], X_valid.shape[0])"
   ]
  },
  {
   "cell_type": "code",
   "execution_count": 88,
   "metadata": {
    "collapsed": false
   },
   "outputs": [
    {
     "data": {
      "text/plain": [
       "(112.4417701863354, 112.63586956521739)"
      ]
     },
     "execution_count": 88,
     "metadata": {},
     "output_type": "execute_result"
    }
   ],
   "source": [
    "y_train.mean(), y_valid.mean()"
   ]
  },
  {
   "cell_type": "code",
   "execution_count": 94,
   "metadata": {
    "collapsed": false
   },
   "outputs": [],
   "source": [
    "X_train1 = X_train\n",
    "X_valid1 = X_valid\n",
    "y_train1 = y_train\n",
    "y_valid1 = y_valid"
   ]
  },
  {
   "cell_type": "code",
   "execution_count": 90,
   "metadata": {
    "collapsed": false
   },
   "outputs": [
    {
     "name": "stdout",
     "output_type": "stream",
     "text": [
      "Train:\n",
      "\t MSE: 1451.399\n",
      "\t MAE: 30.121\n",
      "\t Relative MSE: 0.02867\n",
      "\t Relative MAE: 0.13387\n",
      "Valid:\n",
      "\t MSE: 1746.281\n",
      "\t MAE: 33.664\n",
      "\t Relative MSE: 0.03449\n",
      "\t Relative MAE: 0.14962\n"
     ]
    },
    {
     "data": {
      "image/png": "[encoded data removed]",
      "text/plain": [
       "<matplotlib.figure.Figure at 0x7f777657f150>"
      ]
     },
     "metadata": {},
     "output_type": "display_data"
    }
   ],
   "source": [
    "model_lr = sklearn.linear_model.LinearRegression(\n",
    "    copy_X=True, fit_intercept=True, n_jobs=1, normalize=False\n",
    ")\n",
    "\n",
    "model = model_lr\n",
    "\n",
    "regression_report_train_valid(model, X_train, X_valid, y_train, y_valid)"
   ]
  },
  {
   "cell_type": "code",
   "execution_count": 92,
   "metadata": {
    "collapsed": false
   },
   "outputs": [
    {
     "name": "stdout",
     "output_type": "stream",
     "text": [
      "Fitting 3 folds for each of 45 candidates, totalling 135 fits\n"
     ]
    },
    {
     "name": "stderr",
     "output_type": "stream",
     "text": [
      "[Parallel(n_jobs=4)]: Done  42 tasks      | elapsed:    2.8s\n",
      "[Parallel(n_jobs=4)]: Done 135 out of 135 | elapsed:   20.0s finished\n"
     ]
    },
    {
     "name": "stdout",
     "output_type": "stream",
     "text": [
      "Train:\n",
      "\t MSE: 204.342\n",
      "\t MAE: 4.874\n",
      "\t Relative MSE: 0.00404\n",
      "\t Relative MAE: 0.02166\n",
      "Valid:\n",
      "\t MSE: 1702.588\n",
      "\t MAE: 30.452\n",
      "\t Relative MSE: 0.03363\n",
      "\t Relative MAE: 0.13534\n"
     ]
    },
    {
     "data": {
      "image/png": "[encoded data removed]",
      "text/plain": [
       "<matplotlib.figure.Figure at 0x7f776c52ff10>"
      ]
     },
     "metadata": {},
     "output_type": "display_data"
    }
   ],
   "source": [
    "model_svr = sklearn.grid_search.GridSearchCV(\n",
    "    estimator=sklearn.svm.SVR(),\n",
    "    param_grid={\n",
    "        'kernel': ['rbf'],\n",
    "#         'C': [200, 400, 800],\n",
    "        'C': [0.1, 1, 10, 100, 500],\n",
    "        'gamma': [4**i for i in range(-7, 2)],\n",
    "        'cache_size': [1]\n",
    "    },\n",
    "    refit=True,\n",
    "    n_jobs=4,\n",
    "    cv=3,\n",
    "    verbose=True\n",
    ")\n",
    "model = model_svr\n",
    "\n",
    "regression_report_train_valid(model, X_train, X_valid, y_train, y_valid)"
   ]
  },
  {
   "cell_type": "code",
   "execution_count": 93,
   "metadata": {
    "collapsed": false
   },
   "outputs": [
    {
     "data": {
      "text/plain": [
       "{'C': 100, 'cache_size': 1, 'gamma': 0.00390625, 'kernel': 'rbf'}"
      ]
     },
     "execution_count": 93,
     "metadata": {},
     "output_type": "execute_result"
    }
   ],
   "source": [
    "model_svr.best_params_"
   ]
  },
  {
   "cell_type": "code",
   "execution_count": 10,
   "metadata": {
    "collapsed": false
   },
   "outputs": [],
   "source": [
    "# import sklearn.ensemble\n",
    "\n",
    "# model_rf = sklearn.ensemble.RandomForestClassifier(bootstrap=True, class_weight=None, criterion='gini',\n",
    "#             max_depth=2, max_features=20, max_leaf_nodes=None,\n",
    "#             min_samples_leaf=5, min_samples_split=10,\n",
    "#             min_weight_fraction_leaf=0.0, n_estimators=100, n_jobs=4,\n",
    "#             oob_score=False, random_state=None, verbose=0,\n",
    "#             warm_start=False)\n",
    "\n",
    "# model = model_rf\n",
    "\n",
    "# regression_report_train_valid(model, X_train, X_valid, y_train, y_valid)"
   ]
  },
  {
   "cell_type": "code",
   "execution_count": null,
   "metadata": {
    "collapsed": true
   },
   "outputs": [],
   "source": []
  },
  {
   "cell_type": "code",
   "execution_count": 95,
   "metadata": {
    "collapsed": false
   },
   "outputs": [
    {
     "name": "stdout",
     "output_type": "stream",
     "text": [
      "Train size: 1288, validation size: 552\n"
     ]
    }
   ],
   "source": [
    "features_names = ['battery_voltage','pot_setting1','pot_setting2','pot_setting3','pressure','temperature']\n",
    "X_raw = samples_df[features_names]\n",
    "\n",
    "\n",
    "X = vectorize(X_raw)\n",
    "y = samples_df.gallons.values\n",
    "\n",
    "X_train, X_valid, y_train, y_valid = sklearn.cross_validation.train_test_split(\n",
    "    X, y, train_size=0.7, random_state=419)\n",
    "\n",
    "\n",
    "print 'Train size: {0}, validation size: {1}'.format(X_train.shape[0], X_valid.shape[0])"
   ]
  },
  {
   "cell_type": "code",
   "execution_count": null,
   "metadata": {
    "collapsed": true
   },
   "outputs": [],
   "source": []
  },
  {
   "cell_type": "code",
   "execution_count": 39,
   "metadata": {
    "collapsed": false
   },
   "outputs": [
    {
     "name": "stdout",
     "output_type": "stream",
     "text": [
      "Train:\n",
      "\t MSE: 2202.619\n",
      "\t MAE: 36.148\n",
      "\t Relative MSE: 0.04351\n",
      "\t Relative MAE: 0.16066\n",
      "Valid:\n",
      "\t MSE: 1931.352\n",
      "\t MAE: 35.385\n",
      "\t Relative MSE: 0.03815\n",
      "\t Relative MAE: 0.15727\n"
     ]
    },
    {
     "data": {
      "image/png": "[encoded data removed]",
      "text/plain": [
       "<matplotlib.figure.Figure at 0x7f776c4f2e50>"
      ]
     },
     "metadata": {},
     "output_type": "display_data"
    }
   ],
   "source": [
    "model_lr = sklearn.linear_model.LinearRegression(\n",
    "    copy_X=True, fit_intercept=True, n_jobs=1, normalize=False\n",
    ")\n",
    "\n",
    "model = model_lr\n",
    "\n",
    "regression_report_train_valid(model, X_train, X_valid, y_train, y_valid)"
   ]
  },
  {
   "cell_type": "code",
   "execution_count": 96,
   "metadata": {
    "collapsed": false
   },
   "outputs": [
    {
     "name": "stdout",
     "output_type": "stream",
     "text": [
      "Fitting 3 folds for each of 36 candidates, totalling 108 fits\n"
     ]
    },
    {
     "name": "stderr",
     "output_type": "stream",
     "text": [
      "[Parallel(n_jobs=4)]: Done  76 tasks      | elapsed:    2.9s\n",
      "[Parallel(n_jobs=4)]: Done 108 out of 108 | elapsed:   10.4s finished\n"
     ]
    },
    {
     "name": "stdout",
     "output_type": "stream",
     "text": [
      "Train:\n",
      "\t MSE: 21.800\n",
      "\t MAE: 2.159\n",
      "\t Relative MSE: 0.00043\n",
      "\t Relative MAE: 0.00959\n",
      "Valid:\n",
      "\t MSE: 110.065\n",
      "\t MAE: 3.422\n",
      "\t Relative MSE: 0.00217\n",
      "\t Relative MAE: 0.01521\n"
     ]
    },
    {
     "data": {
      "image/png": "[encoded data removed]",
      "text/plain": [
       "<matplotlib.figure.Figure at 0x7f7776278950>"
      ]
     },
     "metadata": {},
     "output_type": "display_data"
    }
   ],
   "source": [
    "model_svr = sklearn.grid_search.GridSearchCV(\n",
    "    estimator=sklearn.svm.SVR(),\n",
    "    param_grid={\n",
    "        'kernel': ['rbf'],\n",
    "#         'C': [200, 400, 800],\n",
    "        'C': [1, 10, 1000, 2000],\n",
    "        'gamma': [4**i for i in range(-7, 2)],\n",
    "        'cache_size': [1]\n",
    "    },\n",
    "    refit=True,\n",
    "    n_jobs=4,\n",
    "    cv=3,\n",
    "    verbose=True\n",
    ")\n",
    "model = model_svr\n",
    "\n",
    "regression_report_train_valid(model, X_train, X_valid, y_train, y_valid)"
   ]
  },
  {
   "cell_type": "code",
   "execution_count": 101,
   "metadata": {
    "collapsed": false
   },
   "outputs": [
    {
     "data": {
      "text/plain": [
       "{'C': 2000, 'cache_size': 1, 'gamma': 4, 'kernel': 'rbf'}"
      ]
     },
     "execution_count": 101,
     "metadata": {},
     "output_type": "execute_result"
    }
   ],
   "source": [
    "model_svr.best_params_"
   ]
  },
  {
   "cell_type": "code",
   "execution_count": 111,
   "metadata": {
    "collapsed": false
   },
   "outputs": [
    {
     "name": "stdout",
     "output_type": "stream",
     "text": [
      "battery_voltage \t0.0222022034976\n",
      "pot_setting1 \t0.0159996994983\n",
      "pot_setting2 \t0.0159998259246\n",
      "pot_setting3 \t0.0159998259246\n",
      "pressure \t0.0816183777352\n",
      "temperature \t0.0336859481586\n"
     ]
    }
   ],
   "source": [
    "def drop_i(X, i):\n",
    "    lX = X[:, :i]\n",
    "    rX = X[:, (i+1):]\n",
    "    X_no_i = np.hstack((lX, rX))\n",
    "    return X_no_i\n",
    "    \n",
    "for i in range(X.shape[1]):\n",
    "    X_train_no_i = drop_i(X_train, i)\n",
    "    X_valid_no_i = drop_i(X_valid, i)\n",
    "\n",
    "    model = sklearn.svm.SVR(kernel='rbf', C=1000, gamma=4)\n",
    "    model.fit(X_train_no_i, y_train)\n",
    "\n",
    "    y_valid_pred = model.predict(X_valid_no_i)\n",
    "    relative_mae = sklearn.metrics.mean_absolute_error(y_valid / 225, y_valid_pred / 225)\n",
    "    print features_names[i], '\\t', relative_mae"
   ]
  },
  {
   "cell_type": "code",
   "execution_count": 109,
   "metadata": {
    "collapsed": false
   },
   "outputs": [
    {
     "data": {
      "text/plain": [
       "(1288, 5)"
      ]
     },
     "execution_count": 109,
     "metadata": {},
     "output_type": "execute_result"
    }
   ],
   "source": [
    "X_valid_no_i.shape"
   ]
  },
  {
   "cell_type": "code",
   "execution_count": 97,
   "metadata": {
    "collapsed": false
   },
   "outputs": [
    {
     "data": {
      "text/plain": [
       "[<matplotlib.lines.Line2D at 0x7f77720f75d0>]"
      ]
     },
     "execution_count": 97,
     "metadata": {},
     "output_type": "execute_result"
    },
    {
     "data": {
      "image/png": "[encoded data removed]",
      "text/plain": [
       "<matplotlib.figure.Figure at 0x7f776c2c8f10>"
      ]
     },
     "metadata": {},
     "output_type": "display_data"
    }
   ],
   "source": [
    "plt.plot(y_valid, model_svr.predict(X_valid), 'o')"
   ]
  },
  {
   "cell_type": "code",
   "execution_count": null,
   "metadata": {
    "collapsed": true
   },
   "outputs": [],
   "source": []
  },
  {
   "cell_type": "code",
   "execution_count": 59,
   "metadata": {
    "collapsed": false
   },
   "outputs": [
    {
     "name": "stderr",
     "output_type": "stream",
     "text": [
      "/home/obus/.venv/local/lib/python2.7/site-packages/sklearn/utils/validation.py:420: DataConversionWarning: Data with input dtype int64 was converted to float64 by StandardScaler.\n",
      "  warnings.warn(msg, DataConversionWarning)\n",
      "/home/obus/.venv/local/lib/python2.7/site-packages/sklearn/utils/validation.py:420: DataConversionWarning: Data with input dtype int64 was converted to float64 by StandardScaler.\n",
      "  warnings.warn(msg, DataConversionWarning)\n"
     ]
    }
   ],
   "source": [
    "scaler = sklearn.preprocessing.StandardScaler()\n",
    "\n",
    "sample_X_raw = np.vstack(samples_df['sample'].values)\n",
    "sample_X_raw = scaler.fit_transform(sample_X_raw)\n",
    "\n",
    "features_names = ['battery_voltage','pot_setting1','pot_setting2','pot_setting3','pressure','temperature']\n",
    "features_X = samples_df[features_names]\n",
    "\n",
    "y = samples_df.gallons.values\n",
    "\n",
    "sample_X_raw_train, sample_X_raw_valid, features_X_train, features_X_valid, y_train, y_valid = sklearn.cross_validation.train_test_split(\n",
    "    sample_X_raw, features_X, y, train_size=0.7, random_state=419)\n",
    "\n",
    "\n",
    "import sklearn.decomposition\n",
    "feature_extraction = sklearn.decomposition.TruncatedSVD(\n",
    "    n_components=1, \n",
    "    random_state=419,\n",
    "    algorithm='randomized'\n",
    ")\n",
    "\n",
    "sample_X_train = feature_extraction.fit_transform(sample_X_raw_train)\n",
    "sample_X_valid = feature_extraction.transform(sample_X_raw_valid)\n",
    "\n",
    "\n",
    "X_train = np.hstack((sample_X_train, features_X_train))\n",
    "X_valid = np.hstack((sample_X_valid, features_X_valid))\n",
    "\n",
    "# print 'Train size: {0}, validation size: {1}'.format(X_train.shape[0], X_valid.shape[0])"
   ]
  },
  {
   "cell_type": "code",
   "execution_count": null,
   "metadata": {
    "collapsed": true
   },
   "outputs": [],
   "source": [
    "\n"
   ]
  },
  {
   "cell_type": "code",
   "execution_count": 60,
   "metadata": {
    "collapsed": false
   },
   "outputs": [
    {
     "name": "stdout",
     "output_type": "stream",
     "text": [
      "Train:\n",
      "\t MSE: 2195.324\n",
      "\t MAE: 36.049\n",
      "\t Relative MSE: 0.04336\n",
      "\t Relative MAE: 0.16022\n",
      "Valid:\n",
      "\t MSE: 1923.348\n",
      "\t MAE: 35.272\n",
      "\t Relative MSE: 0.03799\n",
      "\t Relative MAE: 0.15676\n"
     ]
    },
    {
     "data": {
      "image/png": "[encoded data removed]",
      "text/plain": [
       "<matplotlib.figure.Figure at 0x7f777211bcd0>"
      ]
     },
     "metadata": {},
     "output_type": "display_data"
    }
   ],
   "source": [
    "model_lr = sklearn.linear_model.LinearRegression(\n",
    "    copy_X=True, fit_intercept=True, n_jobs=1, normalize=False\n",
    ")\n",
    "\n",
    "model = model_lr\n",
    "\n",
    "regression_report_train_valid(model, X_train, X_valid, y_train, y_valid)"
   ]
  },
  {
   "cell_type": "code",
   "execution_count": 64,
   "metadata": {
    "collapsed": false
   },
   "outputs": [
    {
     "name": "stdout",
     "output_type": "stream",
     "text": [
      "Fitting 3 folds for each of 9 candidates, totalling 27 fits\n",
      "Train:\n",
      "\t MSE: 1836.934\n",
      "\t MAE: 27.706\n",
      "\t Relative MSE: 0.03629\n",
      "\t Relative MAE: 0.12314\n",
      "Valid:\n",
      "\t MSE: 2129.869\n",
      "\t MAE: 31.442\n",
      "\t Relative MSE: 0.04207\n",
      "\t Relative MAE: 0.13974\n"
     ]
    },
    {
     "name": "stderr",
     "output_type": "stream",
     "text": [
      "[Parallel(n_jobs=4)]: Done  27 out of  27 | elapsed:    0.8s finished\n"
     ]
    },
    {
     "data": {
      "image/png": "[encoded data removed]",
      "text/plain": [
       "<matplotlib.figure.Figure at 0x7f776c39cf90>"
      ]
     },
     "metadata": {},
     "output_type": "display_data"
    }
   ],
   "source": [
    "model_svr = sklearn.grid_search.GridSearchCV(\n",
    "    estimator=sklearn.svm.SVR(),\n",
    "    param_grid={\n",
    "        'kernel': ['rbf'],\n",
    "#         'C': [200, 400, 800],\n",
    "        'C': [1, 10, 1000, 2000],\n",
    "        'gamma': [4**i for i in range(-7, 2)],\n",
    "        'cache_size': [1]\n",
    "    },\n",
    "    refit=True,\n",
    "    n_jobs=4,\n",
    "    cv=3,\n",
    "    verbose=True\n",
    ")\n",
    "model = model_svr\n",
    "\n",
    "regression_report_train_valid(model, X_train, X_valid, y_train, y_valid)"
   ]
  },
  {
   "cell_type": "code",
   "execution_count": 62,
   "metadata": {
    "collapsed": false
   },
   "outputs": [
    {
     "data": {
      "text/plain": [
       "{'C': 2000, 'cache_size': 1, 'gamma': 0.015625, 'kernel': 'rbf'}"
      ]
     },
     "execution_count": 62,
     "metadata": {},
     "output_type": "execute_result"
    }
   ],
   "source": [
    "model_svr.best_params_"
   ]
  },
  {
   "cell_type": "code",
   "execution_count": 63,
   "metadata": {
    "collapsed": false
   },
   "outputs": [
    {
     "data": {
      "text/plain": [
       "[<matplotlib.lines.Line2D at 0x7f776c54c750>]"
      ]
     },
     "execution_count": 63,
     "metadata": {},
     "output_type": "execute_result"
    },
    {
     "data": {
      "image/png": "[encoded data removed]",
      "text/plain": [
       "<matplotlib.figure.Figure at 0x7f7776615b90>"
      ]
     },
     "metadata": {},
     "output_type": "display_data"
    }
   ],
   "source": [
    "plt.plot(y_valid, model_svr.predict(X_valid), 'o')"
   ]
  },
  {
   "cell_type": "code",
   "execution_count": null,
   "metadata": {
    "collapsed": true
   },
   "outputs": [],
   "source": []
  }
 ],
 "metadata": {
  "kernelspec": {
   "display_name": "Python 2",
   "language": "python",
   "name": "python2"
  },
  "language_info": {
   "codemirror_mode": {
    "name": "ipython",
    "version": 2
   },
   "file_extension": ".py",
   "mimetype": "text/x-python",
   "name": "python",
   "nbconvert_exporter": "python",
   "pygments_lexer": "ipython2",
   "version": "2.7.9"
  }
 },
 "nbformat": 4,
 "nbformat_minor": 0
}
