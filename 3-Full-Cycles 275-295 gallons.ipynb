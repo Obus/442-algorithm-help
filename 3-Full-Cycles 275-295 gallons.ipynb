{
 "cells": [
  {
   "cell_type": "markdown",
   "metadata": {},
   "source": [
    "# Чтение данных"
   ]
  },
  {
   "cell_type": "code",
   "execution_count": 1,
   "metadata": {
    "collapsed": true
   },
   "outputs": [],
   "source": [
    "ROOT_DIR = '3-Full-Cycles 275-295 gallons'"
   ]
  },
  {
   "cell_type": "markdown",
   "metadata": {},
   "source": [
    "### Вспомогательные методы для чтения и разбора данных"
   ]
  },
  {
   "cell_type": "code",
   "execution_count": 4,
   "metadata": {
    "collapsed": false
   },
   "outputs": [],
   "source": [
    "import os\n",
    "import itertools\n",
    "import pandas as pd\n",
    "import numpy as np\n",
    "import datetime\n",
    "import re\n",
    "\n",
    "\n",
    "def parse_datetime(line):\n",
    "    return datetime.datetime.strptime(line[5:], '%Y-%m-%d %H:%M:%S.%f')\n",
    "\n",
    "\n",
    "def parse_temperature(line):\n",
    "    return float(line[14:-3])\n",
    "\n",
    "\n",
    "def parse_pressure(line):\n",
    "    return float(line[22:-5])\n",
    "\n",
    "\n",
    "def parse_battery_voltage(line):\n",
    "    return float(line[24:-6])\n",
    "\n",
    "\n",
    "def parse_pot_setting(line):\n",
    "    values = re.sub(r'[A-z;=>:]', ' ', line.replace('POT1', '').replace('POT2', '')).split()\n",
    "    return map(float, values)\n",
    "\n",
    "def parse_gallons(gal_dir_name):\n",
    "    return float(re.sub(r'[^\\d]', '', gal_dir_name))\n",
    "\n",
    "\n",
    "def yield_gallon_dir(sample_dir):\n",
    "    gallons = parse_gallons(sample_dir)\n",
    "    sample_files = os.listdir(os.path.join(ROOT_DIR, sample_dir))\n",
    "    for sample_file in sample_files:\n",
    "        with open(os.path.join(ROOT_DIR, sample_dir, sample_file)) as f:\n",
    "            lines = map(lambda l: l[:-1], f)\n",
    "            yield {\n",
    "                'gallons': gallons,\n",
    "                'datetime': parse_datetime(lines[0]),\n",
    "                'temperature': parse_temperature(lines[1]),\n",
    "                'pressure': parse_pressure(lines[2]),\n",
    "                'battery_voltage': parse_battery_voltage(lines[3]),\n",
    "                'pot_setting': parse_pot_setting(lines[4]),\n",
    "                'sample': np.array(map(int, lines[5:]))\n",
    "            } "
   ]
  },
  {
   "cell_type": "markdown",
   "metadata": {},
   "source": [
    "### Непосредственно чтение данных"
   ]
  },
  {
   "cell_type": "code",
   "execution_count": 6,
   "metadata": {
    "collapsed": false,
    "scrolled": false
   },
   "outputs": [
    {
     "data": {
      "text/html": [
       "<div>\n",
       "<table border=\"1\" class=\"dataframe\">\n",
       "  <thead>\n",
       "    <tr style=\"text-align: right;\">\n",
       "      <th></th>\n",
       "      <th>battery_voltage</th>\n",
       "      <th>datetime</th>\n",
       "      <th>gallons</th>\n",
       "      <th>pot_setting</th>\n",
       "      <th>pressure</th>\n",
       "      <th>sample</th>\n",
       "      <th>temperature</th>\n",
       "    </tr>\n",
       "  </thead>\n",
       "  <tbody>\n",
       "    <tr>\n",
       "      <th>214</th>\n",
       "      <td>6.06</td>\n",
       "      <td>2016-01-15 19:33:41.374351</td>\n",
       "      <td>283</td>\n",
       "      <td>[192.0, 127.0, 12.5]</td>\n",
       "      <td>28.35</td>\n",
       "      <td>[1787, 2332, 2418, 4095, 66, 4095, 789, 3258, ...</td>\n",
       "      <td>16.2</td>\n",
       "    </tr>\n",
       "    <tr>\n",
       "      <th>942</th>\n",
       "      <td>6.06</td>\n",
       "      <td>2016-01-15 19:17:23.103488</td>\n",
       "      <td>282</td>\n",
       "      <td>[192.0, 127.0, 12.5]</td>\n",
       "      <td>28.35</td>\n",
       "      <td>[4095, 67, 996, 555, 2503, 2250, 1677, 2165, 1...</td>\n",
       "      <td>16.6</td>\n",
       "    </tr>\n",
       "    <tr>\n",
       "      <th>421</th>\n",
       "      <td>6.00</td>\n",
       "      <td>2016-01-14 20:48:41.802099</td>\n",
       "      <td>285</td>\n",
       "      <td>[192.0, 127.0, 12.5]</td>\n",
       "      <td>28.65</td>\n",
       "      <td>[1834, 68, 1546, 4095, 1305, 1289, 4095, 448, ...</td>\n",
       "      <td>13.0</td>\n",
       "    </tr>\n",
       "    <tr>\n",
       "      <th>1050</th>\n",
       "      <td>6.06</td>\n",
       "      <td>2016-01-14 19:43:22.016532</td>\n",
       "      <td>284</td>\n",
       "      <td>[192.0, 127.0, 12.5]</td>\n",
       "      <td>28.65</td>\n",
       "      <td>[3891, 2040, 71, 4079, 1575, 67, 1930, 1368, 4...</td>\n",
       "      <td>12.9</td>\n",
       "    </tr>\n",
       "    <tr>\n",
       "      <th>1223</th>\n",
       "      <td>6.17</td>\n",
       "      <td>2016-01-14 16:47:48.956426</td>\n",
       "      <td>276</td>\n",
       "      <td>[192.0, 127.0, 12.5]</td>\n",
       "      <td>28.71</td>\n",
       "      <td>[679, 116, 2899, 2413, 1303, 2743, 1612, 4095,...</td>\n",
       "      <td>11.6</td>\n",
       "    </tr>\n",
       "    <tr>\n",
       "      <th>833</th>\n",
       "      <td>5.99</td>\n",
       "      <td>2016-01-12 20:10:13.158176</td>\n",
       "      <td>279</td>\n",
       "      <td>[192.0, 127.0, 12.5]</td>\n",
       "      <td>28.64</td>\n",
       "      <td>[559, 3055, 1614, 76, 2087, 516, 4095, 1557, 3...</td>\n",
       "      <td>8.6</td>\n",
       "    </tr>\n",
       "    <tr>\n",
       "      <th>690</th>\n",
       "      <td>6.03</td>\n",
       "      <td>2016-01-12 19:38:27.474759</td>\n",
       "      <td>277</td>\n",
       "      <td>[192.0, 127.0, 12.5]</td>\n",
       "      <td>28.61</td>\n",
       "      <td>[3619, 1568, 3132, 1228, 81, 2779, 4053, 1771,...</td>\n",
       "      <td>9.9</td>\n",
       "    </tr>\n",
       "    <tr>\n",
       "      <th>133</th>\n",
       "      <td>6.17</td>\n",
       "      <td>2016-01-14 17:16:29.251541</td>\n",
       "      <td>278</td>\n",
       "      <td>[192.0, 127.0, 12.5]</td>\n",
       "      <td>28.70</td>\n",
       "      <td>[3976, 563, 2353, 3006, 2374, 277, 2412, 2974,...</td>\n",
       "      <td>11.5</td>\n",
       "    </tr>\n",
       "    <tr>\n",
       "      <th>884</th>\n",
       "      <td>5.96</td>\n",
       "      <td>2016-01-14 22:54:54.018469</td>\n",
       "      <td>291</td>\n",
       "      <td>[192.0, 127.0, 12.5]</td>\n",
       "      <td>28.65</td>\n",
       "      <td>[1069, 3710, 1696, 1202, 63, 3087, 1547, 3390,...</td>\n",
       "      <td>12.3</td>\n",
       "    </tr>\n",
       "    <tr>\n",
       "      <th>448</th>\n",
       "      <td>6.05</td>\n",
       "      <td>2016-01-15 20:19:59.447943</td>\n",
       "      <td>285</td>\n",
       "      <td>[192.0, 127.0, 12.5]</td>\n",
       "      <td>28.33</td>\n",
       "      <td>[4095, 65, 196, 1199, 2444, 2160, 1798, 2017, ...</td>\n",
       "      <td>16.2</td>\n",
       "    </tr>\n",
       "  </tbody>\n",
       "</table>\n",
       "</div>"
      ],
      "text/plain": [
       "      battery_voltage                   datetime  gallons  \\\n",
       "214              6.06 2016-01-15 19:33:41.374351      283   \n",
       "942              6.06 2016-01-15 19:17:23.103488      282   \n",
       "421              6.00 2016-01-14 20:48:41.802099      285   \n",
       "1050             6.06 2016-01-14 19:43:22.016532      284   \n",
       "1223             6.17 2016-01-14 16:47:48.956426      276   \n",
       "833              5.99 2016-01-12 20:10:13.158176      279   \n",
       "690              6.03 2016-01-12 19:38:27.474759      277   \n",
       "133              6.17 2016-01-14 17:16:29.251541      278   \n",
       "884              5.96 2016-01-14 22:54:54.018469      291   \n",
       "448              6.05 2016-01-15 20:19:59.447943      285   \n",
       "\n",
       "               pot_setting  pressure  \\\n",
       "214   [192.0, 127.0, 12.5]     28.35   \n",
       "942   [192.0, 127.0, 12.5]     28.35   \n",
       "421   [192.0, 127.0, 12.5]     28.65   \n",
       "1050  [192.0, 127.0, 12.5]     28.65   \n",
       "1223  [192.0, 127.0, 12.5]     28.71   \n",
       "833   [192.0, 127.0, 12.5]     28.64   \n",
       "690   [192.0, 127.0, 12.5]     28.61   \n",
       "133   [192.0, 127.0, 12.5]     28.70   \n",
       "884   [192.0, 127.0, 12.5]     28.65   \n",
       "448   [192.0, 127.0, 12.5]     28.33   \n",
       "\n",
       "                                                 sample  temperature  \n",
       "214   [1787, 2332, 2418, 4095, 66, 4095, 789, 3258, ...         16.2  \n",
       "942   [4095, 67, 996, 555, 2503, 2250, 1677, 2165, 1...         16.6  \n",
       "421   [1834, 68, 1546, 4095, 1305, 1289, 4095, 448, ...         13.0  \n",
       "1050  [3891, 2040, 71, 4079, 1575, 67, 1930, 1368, 4...         12.9  \n",
       "1223  [679, 116, 2899, 2413, 1303, 2743, 1612, 4095,...         11.6  \n",
       "833   [559, 3055, 1614, 76, 2087, 516, 4095, 1557, 3...          8.6  \n",
       "690   [3619, 1568, 3132, 1228, 81, 2779, 4053, 1771,...          9.9  \n",
       "133   [3976, 563, 2353, 3006, 2374, 277, 2412, 2974,...         11.5  \n",
       "884   [1069, 3710, 1696, 1202, 63, 3087, 1547, 3390,...         12.3  \n",
       "448   [4095, 65, 196, 1199, 2444, 2160, 1798, 2017, ...         16.2  "
      ]
     },
     "execution_count": 6,
     "metadata": {},
     "output_type": "execute_result"
    }
   ],
   "source": [
    "samples_dirs = filter(lambda d: d.endswith('gal'), os.listdir(ROOT_DIR))\n",
    "\n",
    "\n",
    "samples_df = pd.DataFrame(list(\n",
    "    itertools.chain.from_iterable((yield_gallon_dir(d) for d in samples_dirs))\n",
    "))\n",
    "\n",
    "print samples_df.shape\n",
    "samples_df.sample(10)"
   ]
  },
  {
   "cell_type": "code",
   "execution_count": 35,
   "metadata": {
    "collapsed": false
   },
   "outputs": [
    {
     "data": {
      "text/plain": [
       "(1260, 16384)"
      ]
     },
     "execution_count": 35,
     "metadata": {},
     "output_type": "execute_result"
    }
   ],
   "source": [
    "samples_mat = np.vstack(samples_df['sample'].values)\n",
    "samples_mat.shape"
   ]
  },
  {
   "cell_type": "markdown",
   "metadata": {},
   "source": [
    "### График трех случайных сэмплов"
   ]
  },
  {
   "cell_type": "code",
   "execution_count": 88,
   "metadata": {
    "collapsed": false
   },
   "outputs": [
    {
     "name": "stdout",
     "output_type": "stream",
     "text": [
      "Populating the interactive namespace from numpy and matplotlib\n"
     ]
    },
    {
     "name": "stderr",
     "output_type": "stream",
     "text": [
      "WARNING: pylab import has clobbered these variables: ['pylab']\n",
      "`%matplotlib` prevents importing * from pylab and numpy\n"
     ]
    },
    {
     "data": {
      "image/png": "[encoded data removed]",
      "text/plain": [
       "<matplotlib.figure.Figure at 0x7fbe4c4c5710>"
      ]
     },
     "metadata": {},
     "output_type": "display_data"
    },
    {
     "data": {
      "image/png": "[encoded data removed]",
      "text/plain": [
       "<matplotlib.figure.Figure at 0x7fbe360dd1d0>"
      ]
     },
     "metadata": {},
     "output_type": "display_data"
    },
    {
     "data": {
      "image/png": "[encoded data removed]",
      "text/plain": [
       "<matplotlib.figure.Figure at 0x7fbe59136190>"
      ]
     },
     "metadata": {},
     "output_type": "display_data"
    }
   ],
   "source": [
    "import matplotlib.pyplot as plt\n",
    "import pylab\n",
    "import seaborn as sns\n",
    "%matplotlib inline\n",
    "%pylab inline\n",
    "pylab.rcParams['figure.figsize'] = (19, 5)\n",
    "\n",
    "for i in np.random.choice(range(samples_mat.shape[0]), 3, replace=False):\n",
    "    plt.plot(samples_mat[i,:])\n",
    "    plt.show()"
   ]
  },
  {
   "cell_type": "code",
   "execution_count": null,
   "metadata": {
    "collapsed": false
   },
   "outputs": [],
   "source": []
  },
  {
   "cell_type": "markdown",
   "metadata": {},
   "source": [
    "# Предсказание gallons"
   ]
  },
  {
   "cell_type": "code",
   "execution_count": 75,
   "metadata": {
    "collapsed": true
   },
   "outputs": [],
   "source": [
    "import scipy as sp\n",
    "\n",
    "\n",
    "def list_to_matrix(list_like):\n",
    "    if sp.sparse.issparse(list_like[0]):\n",
    "        return sp.sparse.vstack(list_like)\n",
    "    else:\n",
    "        return np.vstack(list_like)\n",
    "\n",
    "    \n",
    "\n",
    "def vectorize(df):\n",
    "    df_columns = [df.ix[:, i].values for i in range(df.shape[1])]\n",
    "    df_matrixes = map(list_to_matrix, df_columns)\n",
    "\n",
    "    if any([sp.sparse.issparse(m) for m in df_matrixes]):\n",
    "        X = sp.sparse.hstack(df_matrixes).tocsr()\n",
    "    else:\n",
    "        X = np.hstack(df_matrixes)\n",
    "    return X\n"
   ]
  },
  {
   "cell_type": "code",
   "execution_count": 39,
   "metadata": {
    "collapsed": true
   },
   "outputs": [],
   "source": [
    "import sklearn\n",
    "import sklearn.cross_validation\n",
    "import sklearn.linear_model\n",
    "import sklearn.metrics"
   ]
  },
  {
   "cell_type": "code",
   "execution_count": 112,
   "metadata": {
    "collapsed": true
   },
   "outputs": [],
   "source": [
    "def regression_report(model, X, y):\n",
    "    y_pred = model.predict(X)\n",
    "    \n",
    "    print '\\t MSE: {:.2f}'.format(sklearn.metrics.mean_squared_error(y, y_pred))\n",
    "    print '\\t MAE: {:.2f}'.format(sklearn.metrics.mean_absolute_error(y, y_pred))\n",
    "    \n",
    "    \n",
    "def regression_report_train_valid(model, X_train, X_valid, y_train, y_valid):\n",
    "    model.fit(X_train, y_train)\n",
    "    print 'Train:'\n",
    "    regression_report(model, X_train, y_train)\n",
    "    print 'Valid:'\n",
    "    regression_report(model, X_valid, y_valid)\n",
    "    \n",
    "    y_valid_pred = model.predict(X_valid)\n",
    "    plt.figure(figsize=(6, 4))\n",
    "    sns.distplot(y_valid - y_valid_pred, bins=40, label='AAA', axlabel='Validation residuals')"
   ]
  },
  {
   "cell_type": "markdown",
   "metadata": {},
   "source": [
    "## Модели на без учета данных sample"
   ]
  },
  {
   "cell_type": "code",
   "execution_count": 77,
   "metadata": {
    "collapsed": false,
    "scrolled": true
   },
   "outputs": [
    {
     "name": "stdout",
     "output_type": "stream",
     "text": [
      "Train size: 882, validation size: 378\n"
     ]
    }
   ],
   "source": [
    "X_raw = samples_df[['battery_voltage','pot_setting','pressure','temperature']]\n",
    "\n",
    "X = vectorize(X_raw)\n",
    "y = samples_df.gallons.values\n",
    "\n",
    "X_train, X_valid, y_train, y_valid = sklearn.cross_validation.train_test_split(X, y, train_size=0.7)\n",
    "print 'Train size: {0}, validation size: {1}'.format(X_train.shape[0], X_valid.shape[0])"
   ]
  },
  {
   "cell_type": "markdown",
   "metadata": {},
   "source": [
    "### Linear regression"
   ]
  },
  {
   "cell_type": "code",
   "execution_count": 113,
   "metadata": {
    "collapsed": false,
    "scrolled": true
   },
   "outputs": [
    {
     "name": "stdout",
     "output_type": "stream",
     "text": [
      "Train:\n",
      "\t MSE: 35.97\n",
      "\t MAE: 5.17\n",
      "Valid:\n",
      "\t MSE: 35.29\n",
      "\t MAE: 5.06\n"
     ]
    },
    {
     "data": {
      "image/png": "[encoded data removed]",
      "text/plain": [
       "<matplotlib.figure.Figure at 0x7fbe35d3ccd0>"
      ]
     },
     "metadata": {},
     "output_type": "display_data"
    }
   ],
   "source": [
    "model = sklearn.linear_model.LinearRegression(\n",
    "    copy_X=True, fit_intercept=True, n_jobs=1, normalize=False\n",
    ")\n",
    "\n",
    "regression_report_train_valid(model, X_train, X_valid, y_train, y_valid)"
   ]
  },
  {
   "cell_type": "markdown",
   "metadata": {},
   "source": [
    "### Suppor Vector Regression (rbf kernel, default parameters)"
   ]
  },
  {
   "cell_type": "code",
   "execution_count": 119,
   "metadata": {
    "collapsed": false,
    "scrolled": false
   },
   "outputs": [
    {
     "name": "stdout",
     "output_type": "stream",
     "text": [
      "Train:\n",
      "\t MSE: 29.97\n",
      "\t MAE: 3.55\n",
      "Valid:\n",
      "\t MSE: 25.49\n",
      "\t MAE: 3.29\n"
     ]
    },
    {
     "data": {
      "image/png": "[encoded data removed]",
      "text/plain": [
       "<matplotlib.figure.Figure at 0x7fbe35c6d910>"
      ]
     },
     "metadata": {},
     "output_type": "display_data"
    }
   ],
   "source": [
    "model = sklearn.svm.SVR(kernel='rbf')#, C=1e3, gamma=0.1)\n",
    "\n",
    "regression_report_train_valid(model, X_train, X_valid, y_train, y_valid)"
   ]
  },
  {
   "cell_type": "markdown",
   "metadata": {},
   "source": [
    "### Suppor Vector Regression (rbf kernel, parameters estimated by grid search cross-validation)"
   ]
  },
  {
   "cell_type": "code",
   "execution_count": 130,
   "metadata": {
    "collapsed": false
   },
   "outputs": [],
   "source": [
    "model = sklearn.grid_search.GridSearchCV(\n",
    "    estimator=sklearn.svm.SVR(),\n",
    "    param_grid={\n",
    "        'kernel': ['rbf'],\n",
    "        'C': [4**i for i in range(0, 5)],\n",
    "        'gamma': [4**i for i in range(0, 5)]\n",
    "    },\n",
    "    refit=True,\n",
    "    n_jobs=4,\n",
    "    cv=5,\n",
    "    verbose=True\n",
    ")"
   ]
  },
  {
   "cell_type": "code",
   "execution_count": 131,
   "metadata": {
    "collapsed": false
   },
   "outputs": [
    {
     "name": "stdout",
     "output_type": "stream",
     "text": [
      "Fitting 5 folds for each of 25 candidates, totalling 125 fits\n",
      "Train:\n",
      "\t MSE: 0.75\n",
      "\t MAE: 0.47\n",
      "Valid:\n",
      "\t MSE: 0.80\n",
      "\t MAE: 0.54\n"
     ]
    },
    {
     "name": "stderr",
     "output_type": "stream",
     "text": [
      "[Parallel(n_jobs=4)]: Done 125 out of 125 | elapsed:    8.1s finished\n"
     ]
    },
    {
     "data": {
      "image/png": "[encoded data removed]",
      "text/plain": [
       "<matplotlib.figure.Figure at 0x7fbe35e21c50>"
      ]
     },
     "metadata": {},
     "output_type": "display_data"
    }
   ],
   "source": [
    "regression_report_train_valid(model, X_train, X_valid, y_train, y_valid)"
   ]
  },
  {
   "cell_type": "code",
   "execution_count": 134,
   "metadata": {
    "collapsed": false
   },
   "outputs": [
    {
     "data": {
      "text/plain": [
       "{'C': 256, 'gamma': 4, 'kernel': 'rbf'}"
      ]
     },
     "execution_count": 134,
     "metadata": {},
     "output_type": "execute_result"
    }
   ],
   "source": [
    "model.best_params_"
   ]
  }
 ],
 "metadata": {
  "kernelspec": {
   "display_name": "Python 2",
   "language": "python",
   "name": "python2"
  },
  "language_info": {
   "codemirror_mode": {
    "name": "ipython",
    "version": 2
   },
   "file_extension": ".py",
   "mimetype": "text/x-python",
   "name": "python",
   "nbconvert_exporter": "python",
   "pygments_lexer": "ipython2",
   "version": "2.7.9"
  }
 },
 "nbformat": 4,
 "nbformat_minor": 0
}
