{
 "cells": [
  {
   "cell_type": "markdown",
   "metadata": {},
   "source": [
    "# Чтение данных"
   ]
  },
  {
   "cell_type": "code",
   "execution_count": 1,
   "metadata": {
    "collapsed": true
   },
   "outputs": [],
   "source": [
    "ROOT_DIR = '3-Full-Cycles 275-295 gallons'"
   ]
  },
  {
   "cell_type": "markdown",
   "metadata": {},
   "source": [
    "### Вспомогательные методы для чтения и разбора данных"
   ]
  },
  {
   "cell_type": "code",
   "execution_count": 34,
   "metadata": {
    "collapsed": false
   },
   "outputs": [],
   "source": [
    "import os\n",
    "import itertools\n",
    "import pandas as pd\n",
    "import numpy as np\n",
    "import datetime\n",
    "import re\n",
    "\n",
    "\n",
    "def parse_datetime(line):\n",
    "    return datetime.datetime.strptime(line[5:], '%Y-%m-%d %H:%M:%S.%f')\n",
    "\n",
    "\n",
    "def parse_temperature(line):\n",
    "    return float(line[14:-3])\n",
    "\n",
    "\n",
    "def parse_pressure(line):\n",
    "    return float(line[22:-5])\n",
    "\n",
    "\n",
    "def parse_battery_voltage(line):\n",
    "    return float(line[24:-6])\n",
    "\n",
    "\n",
    "def parse_pot_setting(line):\n",
    "    values = re.sub(r'[A-z;=>:]', ' ', line.replace('POT1', '').replace('POT2', '')).split()\n",
    "    return map(float, values)\n",
    "\n",
    "def parse_gallons(gal_dir_name):\n",
    "    return float(re.sub(r'[^\\d]', '', gal_dir_name))\n",
    "\n",
    "\n",
    "def yield_gallon_dir(sample_dir, root_dir=ROOT_DIR):\n",
    "    gallons = parse_gallons(sample_dir)\n",
    "    sample_files = os.listdir(os.path.join(root_dir, sample_dir))\n",
    "    for sample_file in sample_files:\n",
    "        with open(os.path.join(root_dir, sample_dir, sample_file)) as f:\n",
    "            lines = map(lambda l: l[:-1], f)\n",
    "            pot_values = parse_pot_setting(lines[4])\n",
    "            yield {\n",
    "                'gallons': gallons,\n",
    "                'datetime': parse_datetime(lines[0]),\n",
    "                'temperature': parse_temperature(lines[1]),\n",
    "                'pressure': parse_pressure(lines[2]),\n",
    "                'battery_voltage': parse_battery_voltage(lines[3]),\n",
    "                'pot_setting1': pot_values[0],\n",
    "                'pot_setting2': pot_values[1],\n",
    "                'pot_setting3': pot_values[2],\n",
    "                'sample': np.array(map(int, lines[5:]))\n",
    "            } "
   ]
  },
  {
   "cell_type": "markdown",
   "metadata": {},
   "source": [
    "### Непосредственно чтение данных"
   ]
  },
  {
   "cell_type": "code",
   "execution_count": 3,
   "metadata": {
    "collapsed": false,
    "scrolled": false
   },
   "outputs": [
    {
     "name": "stdout",
     "output_type": "stream",
     "text": [
      "(1260, 9)\n"
     ]
    },
    {
     "data": {
      "text/html": [
       "<div>\n",
       "<table border=\"1\" class=\"dataframe\">\n",
       "  <thead>\n",
       "    <tr style=\"text-align: right;\">\n",
       "      <th></th>\n",
       "      <th>battery_voltage</th>\n",
       "      <th>datetime</th>\n",
       "      <th>gallons</th>\n",
       "      <th>pot_setting1</th>\n",
       "      <th>pot_setting2</th>\n",
       "      <th>pot_setting3</th>\n",
       "      <th>pressure</th>\n",
       "      <th>sample</th>\n",
       "      <th>temperature</th>\n",
       "    </tr>\n",
       "  </thead>\n",
       "  <tbody>\n",
       "    <tr>\n",
       "      <th>944</th>\n",
       "      <td>6.00</td>\n",
       "      <td>2016-01-12 20:47:54.296762</td>\n",
       "      <td>282</td>\n",
       "      <td>192</td>\n",
       "      <td>127</td>\n",
       "      <td>12.5</td>\n",
       "      <td>28.67</td>\n",
       "      <td>[971, 4095, 1649, 3638, 1825, 1051, 2588, 4095...</td>\n",
       "      <td>8.6</td>\n",
       "    </tr>\n",
       "    <tr>\n",
       "      <th>1118</th>\n",
       "      <td>6.23</td>\n",
       "      <td>2016-01-15 15:11:08.699000</td>\n",
       "      <td>275</td>\n",
       "      <td>192</td>\n",
       "      <td>127</td>\n",
       "      <td>12.5</td>\n",
       "      <td>28.45</td>\n",
       "      <td>[563, 1261, 406, 4095, 1421, 3164, 1592, 2197,...</td>\n",
       "      <td>12.8</td>\n",
       "    </tr>\n",
       "    <tr>\n",
       "      <th>589</th>\n",
       "      <td>5.91</td>\n",
       "      <td>2016-01-12 22:17:47.516355</td>\n",
       "      <td>287</td>\n",
       "      <td>192</td>\n",
       "      <td>127</td>\n",
       "      <td>12.5</td>\n",
       "      <td>28.73</td>\n",
       "      <td>[63, 4095, 1915, 2158, 91, 1258, 2342, 3768, 1...</td>\n",
       "      <td>8.4</td>\n",
       "    </tr>\n",
       "    <tr>\n",
       "      <th>1049</th>\n",
       "      <td>6.04</td>\n",
       "      <td>2016-01-14 19:38:33.256629</td>\n",
       "      <td>284</td>\n",
       "      <td>192</td>\n",
       "      <td>127</td>\n",
       "      <td>12.5</td>\n",
       "      <td>28.65</td>\n",
       "      <td>[2052, 3094, 1536, 2646, 2492, 4095, 62, 4095,...</td>\n",
       "      <td>12.6</td>\n",
       "    </tr>\n",
       "    <tr>\n",
       "      <th>36</th>\n",
       "      <td>6.25</td>\n",
       "      <td>2016-01-12 23:56:13.175695</td>\n",
       "      <td>290</td>\n",
       "      <td>192</td>\n",
       "      <td>127</td>\n",
       "      <td>12.5</td>\n",
       "      <td>28.82</td>\n",
       "      <td>[62, 4095, 169, 2650, 2473, 1084, 3194, 2419, ...</td>\n",
       "      <td>7.3</td>\n",
       "    </tr>\n",
       "    <tr>\n",
       "      <th>227</th>\n",
       "      <td>6.05</td>\n",
       "      <td>2016-01-14 19:16:09.832667</td>\n",
       "      <td>283</td>\n",
       "      <td>192</td>\n",
       "      <td>127</td>\n",
       "      <td>12.5</td>\n",
       "      <td>28.65</td>\n",
       "      <td>[4095, 4095, 67, 68, 1419, 2725, 2193, 1817, 2...</td>\n",
       "      <td>11.9</td>\n",
       "    </tr>\n",
       "    <tr>\n",
       "      <th>170</th>\n",
       "      <td>6.13</td>\n",
       "      <td>2016-01-14 17:17:24.455229</td>\n",
       "      <td>278</td>\n",
       "      <td>192</td>\n",
       "      <td>127</td>\n",
       "      <td>12.5</td>\n",
       "      <td>28.69</td>\n",
       "      <td>[3266, 575, 2592, 3454, 2129, 503, 2483, 2457,...</td>\n",
       "      <td>11.5</td>\n",
       "    </tr>\n",
       "    <tr>\n",
       "      <th>161</th>\n",
       "      <td>6.14</td>\n",
       "      <td>2016-01-14 17:22:57.663408</td>\n",
       "      <td>278</td>\n",
       "      <td>192</td>\n",
       "      <td>127</td>\n",
       "      <td>12.5</td>\n",
       "      <td>28.70</td>\n",
       "      <td>[467, 66, 4095, 1400, 3048, 969, 2525, 455, 40...</td>\n",
       "      <td>11.7</td>\n",
       "    </tr>\n",
       "    <tr>\n",
       "      <th>750</th>\n",
       "      <td>6.00</td>\n",
       "      <td>2016-01-14 21:50:18.829062</td>\n",
       "      <td>288</td>\n",
       "      <td>192</td>\n",
       "      <td>127</td>\n",
       "      <td>12.5</td>\n",
       "      <td>28.66</td>\n",
       "      <td>[2987, 3393, 585, 3390, 1576, 2695, 1783, 220,...</td>\n",
       "      <td>13.0</td>\n",
       "    </tr>\n",
       "    <tr>\n",
       "      <th>690</th>\n",
       "      <td>6.03</td>\n",
       "      <td>2016-01-12 19:38:27.474759</td>\n",
       "      <td>277</td>\n",
       "      <td>192</td>\n",
       "      <td>127</td>\n",
       "      <td>12.5</td>\n",
       "      <td>28.61</td>\n",
       "      <td>[3619, 1568, 3132, 1228, 81, 2779, 4053, 1771,...</td>\n",
       "      <td>9.9</td>\n",
       "    </tr>\n",
       "  </tbody>\n",
       "</table>\n",
       "</div>"
      ],
      "text/plain": [
       "      battery_voltage                   datetime  gallons  pot_setting1  \\\n",
       "944              6.00 2016-01-12 20:47:54.296762      282           192   \n",
       "1118             6.23 2016-01-15 15:11:08.699000      275           192   \n",
       "589              5.91 2016-01-12 22:17:47.516355      287           192   \n",
       "1049             6.04 2016-01-14 19:38:33.256629      284           192   \n",
       "36               6.25 2016-01-12 23:56:13.175695      290           192   \n",
       "227              6.05 2016-01-14 19:16:09.832667      283           192   \n",
       "170              6.13 2016-01-14 17:17:24.455229      278           192   \n",
       "161              6.14 2016-01-14 17:22:57.663408      278           192   \n",
       "750              6.00 2016-01-14 21:50:18.829062      288           192   \n",
       "690              6.03 2016-01-12 19:38:27.474759      277           192   \n",
       "\n",
       "      pot_setting2  pot_setting3  pressure  \\\n",
       "944            127          12.5     28.67   \n",
       "1118           127          12.5     28.45   \n",
       "589            127          12.5     28.73   \n",
       "1049           127          12.5     28.65   \n",
       "36             127          12.5     28.82   \n",
       "227            127          12.5     28.65   \n",
       "170            127          12.5     28.69   \n",
       "161            127          12.5     28.70   \n",
       "750            127          12.5     28.66   \n",
       "690            127          12.5     28.61   \n",
       "\n",
       "                                                 sample  temperature  \n",
       "944   [971, 4095, 1649, 3638, 1825, 1051, 2588, 4095...          8.6  \n",
       "1118  [563, 1261, 406, 4095, 1421, 3164, 1592, 2197,...         12.8  \n",
       "589   [63, 4095, 1915, 2158, 91, 1258, 2342, 3768, 1...          8.4  \n",
       "1049  [2052, 3094, 1536, 2646, 2492, 4095, 62, 4095,...         12.6  \n",
       "36    [62, 4095, 169, 2650, 2473, 1084, 3194, 2419, ...          7.3  \n",
       "227   [4095, 4095, 67, 68, 1419, 2725, 2193, 1817, 2...         11.9  \n",
       "170   [3266, 575, 2592, 3454, 2129, 503, 2483, 2457,...         11.5  \n",
       "161   [467, 66, 4095, 1400, 3048, 969, 2525, 455, 40...         11.7  \n",
       "750   [2987, 3393, 585, 3390, 1576, 2695, 1783, 220,...         13.0  \n",
       "690   [3619, 1568, 3132, 1228, 81, 2779, 4053, 1771,...          9.9  "
      ]
     },
     "execution_count": 3,
     "metadata": {},
     "output_type": "execute_result"
    }
   ],
   "source": [
    "samples_dirs = filter(lambda d: d.endswith('gal'), os.listdir(ROOT_DIR))\n",
    "\n",
    "\n",
    "samples_df = pd.DataFrame(list(\n",
    "    itertools.chain.from_iterable((yield_gallon_dir(d) for d in samples_dirs))\n",
    "))\n",
    "\n",
    "print samples_df.shape\n",
    "samples_df.sample(10)"
   ]
  },
  {
   "cell_type": "code",
   "execution_count": 4,
   "metadata": {
    "collapsed": false
   },
   "outputs": [
    {
     "data": {
      "text/plain": [
       "(1260, 16384)"
      ]
     },
     "execution_count": 4,
     "metadata": {},
     "output_type": "execute_result"
    }
   ],
   "source": [
    "samples_mat = np.vstack(samples_df['sample'].values)\n",
    "samples_mat.shape"
   ]
  },
  {
   "cell_type": "markdown",
   "metadata": {},
   "source": [
    "### График трех случайных сэмплов"
   ]
  },
  {
   "cell_type": "code",
   "execution_count": 5,
   "metadata": {
    "collapsed": false
   },
   "outputs": [
    {
     "name": "stderr",
     "output_type": "stream",
     "text": [
      "/home/obus/.venv/local/lib/python2.7/site-packages/matplotlib/__init__.py:872: UserWarning: axes.color_cycle is deprecated and replaced with axes.prop_cycle; please use the latter.\n",
      "  warnings.warn(self.msg_depr % (key, alt_key))\n",
      "WARNING: "
     ]
    },
    {
     "name": "stdout",
     "output_type": "stream",
     "text": [
      "Populating the interactive namespace from numpy and matplotlib\n"
     ]
    },
    {
     "name": "stderr",
     "output_type": "stream",
     "text": [
      "pylab import has clobbered these variables: ['pylab']\n",
      "`%matplotlib` prevents importing * from pylab and numpy\n"
     ]
    },
    {
     "data": {
      "image/png": "[encoded data removed]",
      "text/plain": [
       "<matplotlib.figure.Figure at 0x7f61696e4a10>"
      ]
     },
     "metadata": {},
     "output_type": "display_data"
    },
    {
     "data": {
      "image/png": "[encoded data removed]",
      "text/plain": [
       "<matplotlib.figure.Figure at 0x7f6166f72290>"
      ]
     },
     "metadata": {},
     "output_type": "display_data"
    },
    {
     "data": {
      "image/png": "[encoded data removed]",
      "text/plain": [
       "<matplotlib.figure.Figure at 0x7f61670c3350>"
      ]
     },
     "metadata": {},
     "output_type": "display_data"
    }
   ],
   "source": [
    "import matplotlib.pyplot as plt\n",
    "import pylab\n",
    "import seaborn as sns\n",
    "%matplotlib inline\n",
    "%pylab inline\n",
    "pylab.rcParams['figure.figsize'] = (19, 5)\n",
    "\n",
    "for i in np.random.choice(range(samples_mat.shape[0]), 3, replace=False):\n",
    "    plt.plot(samples_mat[i,:])\n",
    "    plt.show()"
   ]
  },
  {
   "cell_type": "code",
   "execution_count": null,
   "metadata": {
    "collapsed": false
   },
   "outputs": [],
   "source": []
  },
  {
   "cell_type": "markdown",
   "metadata": {},
   "source": [
    "# Предсказание gallons"
   ]
  },
  {
   "cell_type": "code",
   "execution_count": 6,
   "metadata": {
    "collapsed": true
   },
   "outputs": [],
   "source": [
    "import scipy as sp\n",
    "\n",
    "\n",
    "def list_to_matrix(list_like):\n",
    "    if sp.sparse.issparse(list_like[0]):\n",
    "        return sp.sparse.vstack(list_like)\n",
    "    else:\n",
    "        return np.vstack(list_like)\n",
    "\n",
    "    \n",
    "\n",
    "def vectorize(df):\n",
    "    df_columns = [df.ix[:, i].values for i in range(df.shape[1])]\n",
    "    df_matrixes = map(list_to_matrix, df_columns)\n",
    "\n",
    "    if any([sp.sparse.issparse(m) for m in df_matrixes]):\n",
    "        X = sp.sparse.hstack(df_matrixes).tocsr()\n",
    "    else:\n",
    "        X = np.hstack(df_matrixes)\n",
    "    return X\n"
   ]
  },
  {
   "cell_type": "code",
   "execution_count": 7,
   "metadata": {
    "collapsed": true
   },
   "outputs": [],
   "source": [
    "import sklearn\n",
    "import sklearn.cross_validation\n",
    "import sklearn.linear_model\n",
    "import sklearn.metrics"
   ]
  },
  {
   "cell_type": "code",
   "execution_count": 38,
   "metadata": {
    "collapsed": false
   },
   "outputs": [],
   "source": [
    "def regression_report(model, X, y):\n",
    "    y_pred = model.predict(X)\n",
    "    \n",
    "    print '\\t MSE: {:.2f}'.format(sklearn.metrics.mean_squared_error(y, y_pred))\n",
    "    print '\\t MAE: {:.2f}'.format(sklearn.metrics.mean_absolute_error(y, y_pred))\n",
    "    \n",
    "    \n",
    "def regression_report_train_valid(model, X_train, X_valid, y_train, y_valid, fit=True):\n",
    "    if fit==True:\n",
    "        model.fit(X_train, y_train)\n",
    "    print 'Train:'\n",
    "    regression_report(model, X_train, y_train)\n",
    "    print 'Valid:'\n",
    "    regression_report(model, X_valid, y_valid)\n",
    "    \n",
    "    y_valid_pred = model.predict(X_valid)\n",
    "    plt.figure(figsize=(6, 4))\n",
    "    sns.distplot(y_valid - y_valid_pred, bins=40, label='AAA', axlabel='Validation residuals')"
   ]
  },
  {
   "cell_type": "markdown",
   "metadata": {},
   "source": [
    "## Модели на без учета данных sample"
   ]
  },
  {
   "cell_type": "code",
   "execution_count": 13,
   "metadata": {
    "collapsed": false,
    "scrolled": true
   },
   "outputs": [
    {
     "name": "stdout",
     "output_type": "stream",
     "text": [
      "Train size: 882, validation size: 378\n"
     ]
    }
   ],
   "source": [
    "features_names = ['battery_voltage','pot_setting1','pot_setting2','pot_setting3','pressure','temperature']\n",
    "X_raw = samples_df[features_names]\n",
    "\n",
    "X = vectorize(X_raw)\n",
    "y = samples_df.gallons.values\n",
    "\n",
    "X_train, X_valid, y_train, y_valid = sklearn.cross_validation.train_test_split(\n",
    "    X, y, train_size=0.7, random_state=419)\n",
    "print 'Train size: {0}, validation size: {1}'.format(X_train.shape[0], X_valid.shape[0])"
   ]
  },
  {
   "cell_type": "markdown",
   "metadata": {},
   "source": [
    "### Linear regression"
   ]
  },
  {
   "cell_type": "code",
   "execution_count": 42,
   "metadata": {
    "collapsed": false,
    "scrolled": true
   },
   "outputs": [
    {
     "name": "stdout",
     "output_type": "stream",
     "text": [
      "Train:\n",
      "\t MSE: 35.15\n",
      "\t MAE: 5.06\n",
      "Valid:\n",
      "\t MSE: 37.12\n",
      "\t MAE: 5.29\n"
     ]
    },
    {
     "data": {
      "image/png": "[encoded data removed]",
      "text/plain": [
       "<matplotlib.figure.Figure at 0x7f6164299b90>"
      ]
     },
     "metadata": {},
     "output_type": "display_data"
    }
   ],
   "source": [
    "model = sklearn.linear_model.LinearRegression(\n",
    "    copy_X=True, fit_intercept=True, n_jobs=1, normalize=False\n",
    ")\n",
    "\n",
    "regression_report_train_valid(model, X_train, X_valid, y_train, y_valid)"
   ]
  },
  {
   "cell_type": "markdown",
   "metadata": {},
   "source": [
    "#### Коэффициенты"
   ]
  },
  {
   "cell_type": "code",
   "execution_count": 43,
   "metadata": {
    "collapsed": false
   },
   "outputs": [
    {
     "name": "stdout",
     "output_type": "stream",
     "text": [
      "+322.703 \tintercept\n",
      "-9.811 \tbattery_voltage\n",
      "+0.761 \tpressure\n",
      "+0.001 \ttemperature\n",
      "+0.000 \tpot_setting1\n",
      "+0.000 \tpot_setting2\n",
      "+0.000 \tpot_setting3\n"
     ]
    }
   ],
   "source": [
    "print '{:+.03f}'.format(model.intercept_), '\\t', 'intercept'\n",
    "\n",
    "for feature, coef in sorted(zip(features_names, model.coef_), key=lambda kv: -abs(kv[1])):\n",
    "    print '{:+.03f}'.format(coef), '\\t', feature"
   ]
  },
  {
   "cell_type": "markdown",
   "metadata": {},
   "source": [
    "### Suppor Vector Regression (rbf kernel, default parameters)"
   ]
  },
  {
   "cell_type": "code",
   "execution_count": 44,
   "metadata": {
    "collapsed": false,
    "scrolled": false
   },
   "outputs": [
    {
     "name": "stdout",
     "output_type": "stream",
     "text": [
      "Train:\n",
      "\t MSE: 28.18\n",
      "\t MAE: 3.48\n",
      "Valid:\n",
      "\t MSE: 30.31\n",
      "\t MAE: 3.55\n"
     ]
    },
    {
     "data": {
      "image/png": "[encoded data removed]",
      "text/plain": [
       "<matplotlib.figure.Figure at 0x7f61640e6f90>"
      ]
     },
     "metadata": {},
     "output_type": "display_data"
    }
   ],
   "source": [
    "model = sklearn.svm.SVR(kernel='rbf')#, C=1e3, gamma=0.1)\n",
    "\n",
    "regression_report_train_valid(model, X_train, X_valid, y_train, y_valid)"
   ]
  },
  {
   "cell_type": "markdown",
   "metadata": {},
   "source": [
    "### Suppor Vector Regression (rbf kernel, parameters estimated by grid search cross-validation)"
   ]
  },
  {
   "cell_type": "code",
   "execution_count": 45,
   "metadata": {
    "collapsed": false
   },
   "outputs": [],
   "source": [
    "model = sklearn.grid_search.GridSearchCV(\n",
    "    estimator=sklearn.svm.SVR(),\n",
    "    param_grid={\n",
    "        'kernel': ['rbf'],\n",
    "        'C': [4**i for i in range(-5, 5)],\n",
    "        'gamma': [4**i for i in range(-5, 5)],\n",
    "        'cache_size': [1]\n",
    "    },\n",
    "    refit=True,\n",
    "    n_jobs=4,\n",
    "    cv=5,\n",
    "    verbose=True\n",
    ")"
   ]
  },
  {
   "cell_type": "code",
   "execution_count": 46,
   "metadata": {
    "collapsed": false
   },
   "outputs": [
    {
     "name": "stdout",
     "output_type": "stream",
     "text": [
      "Fitting 5 folds for each of 100 candidates, totalling 500 fits\n"
     ]
    },
    {
     "name": "stderr",
     "output_type": "stream",
     "text": [
      "[Parallel(n_jobs=4)]: Done 144 tasks      | elapsed:    2.6s\n",
      "[Parallel(n_jobs=4)]: Done 500 out of 500 | elapsed:   16.1s finished\n"
     ]
    },
    {
     "name": "stdout",
     "output_type": "stream",
     "text": [
      "Train:\n",
      "\t MSE: 0.79\n",
      "\t MAE: 0.47\n",
      "Valid:\n",
      "\t MSE: 0.62\n",
      "\t MAE: 0.51\n"
     ]
    },
    {
     "data": {
      "image/png": "[encoded data removed]",
      "text/plain": [
       "<matplotlib.figure.Figure at 0x7f6170799950>"
      ]
     },
     "metadata": {},
     "output_type": "display_data"
    }
   ],
   "source": [
    "regression_report_train_valid(model, X_train, X_valid, y_train, y_valid)"
   ]
  },
  {
   "cell_type": "code",
   "execution_count": 47,
   "metadata": {
    "collapsed": false
   },
   "outputs": [
    {
     "data": {
      "text/plain": [
       "{'C': 256, 'cache_size': 1, 'gamma': 4, 'kernel': 'rbf'}"
      ]
     },
     "execution_count": 47,
     "metadata": {},
     "output_type": "execute_result"
    }
   ],
   "source": [
    "model.best_params_"
   ]
  },
  {
   "cell_type": "code",
   "execution_count": 48,
   "metadata": {
    "collapsed": false
   },
   "outputs": [],
   "source": [
    "# import sys\n",
    "# bytes_sizes = []\n",
    "# for attr in dir(model.best_estimator_):\n",
    "#     try:\n",
    "#         bytes = sys.getsizeof(getattr(model.best_estimator_, attr))\n",
    "#         print attr, '\\t', bytes\n",
    "#         bytes_sizes.append(bytes)\n",
    "#     except:\n",
    "#         print 'Failed at', attr\n",
    "        \n",
    "# print np.sum(bytes_sizes)"
   ]
  },
  {
   "cell_type": "markdown",
   "metadata": {},
   "source": [
    "# Проверка модели на данных 2015-12-21-OrangeTank"
   ]
  },
  {
   "cell_type": "markdown",
   "metadata": {},
   "source": [
    "## Чтение данных"
   ]
  },
  {
   "cell_type": "code",
   "execution_count": 36,
   "metadata": {
    "collapsed": false
   },
   "outputs": [
    {
     "name": "stdout",
     "output_type": "stream",
     "text": [
      "(3734, 9)\n"
     ]
    },
    {
     "data": {
      "text/html": [
       "<div>\n",
       "<table border=\"1\" class=\"dataframe\">\n",
       "  <thead>\n",
       "    <tr style=\"text-align: right;\">\n",
       "      <th></th>\n",
       "      <th>battery_voltage</th>\n",
       "      <th>datetime</th>\n",
       "      <th>gallons</th>\n",
       "      <th>pot_setting1</th>\n",
       "      <th>pot_setting2</th>\n",
       "      <th>pot_setting3</th>\n",
       "      <th>pressure</th>\n",
       "      <th>sample</th>\n",
       "      <th>temperature</th>\n",
       "    </tr>\n",
       "  </thead>\n",
       "  <tbody>\n",
       "    <tr>\n",
       "      <th>3584</th>\n",
       "      <td>5.84</td>\n",
       "      <td>2015-12-24 17:31:02.535500</td>\n",
       "      <td>155</td>\n",
       "      <td>192</td>\n",
       "      <td>127</td>\n",
       "      <td>12.5</td>\n",
       "      <td>28.85</td>\n",
       "      <td>[1350, 3388, 1337, 2196, 65, 3451, 1789, 3867,...</td>\n",
       "      <td>19.6</td>\n",
       "    </tr>\n",
       "    <tr>\n",
       "      <th>3714</th>\n",
       "      <td>5.90</td>\n",
       "      <td>2015-12-24 17:41:36.319087</td>\n",
       "      <td>155</td>\n",
       "      <td>192</td>\n",
       "      <td>127</td>\n",
       "      <td>12.5</td>\n",
       "      <td>28.86</td>\n",
       "      <td>[4014, 799, 2146, 2026, 3016, 1227, 1596, 71, ...</td>\n",
       "      <td>20.0</td>\n",
       "    </tr>\n",
       "    <tr>\n",
       "      <th>361</th>\n",
       "      <td>6.17</td>\n",
       "      <td>2015-12-24 05:22:36.673267</td>\n",
       "      <td>215</td>\n",
       "      <td>192</td>\n",
       "      <td>127</td>\n",
       "      <td>12.5</td>\n",
       "      <td>28.30</td>\n",
       "      <td>[2235, 790, 4095, 4095, 1406, 623, 3228, 1203,...</td>\n",
       "      <td>23.8</td>\n",
       "    </tr>\n",
       "    <tr>\n",
       "      <th>716</th>\n",
       "      <td>5.95</td>\n",
       "      <td>2015-12-22 06:43:32.625298</td>\n",
       "      <td>275</td>\n",
       "      <td>192</td>\n",
       "      <td>127</td>\n",
       "      <td>12.5</td>\n",
       "      <td>28.69</td>\n",
       "      <td>[2738, 3624, 174, 1883, 62, 4006, 1224, 3711, ...</td>\n",
       "      <td>22.5</td>\n",
       "    </tr>\n",
       "    <tr>\n",
       "      <th>806</th>\n",
       "      <td>5.95</td>\n",
       "      <td>2015-12-22 21:24:56.463396</td>\n",
       "      <td>275</td>\n",
       "      <td>192</td>\n",
       "      <td>127</td>\n",
       "      <td>12.5</td>\n",
       "      <td>28.80</td>\n",
       "      <td>[217, 559, 1710, 4095, 64, 2278, 2710, 879, 20...</td>\n",
       "      <td>22.8</td>\n",
       "    </tr>\n",
       "    <tr>\n",
       "      <th>1132</th>\n",
       "      <td>5.83</td>\n",
       "      <td>2015-12-23 01:09:47.453722</td>\n",
       "      <td>275</td>\n",
       "      <td>192</td>\n",
       "      <td>127</td>\n",
       "      <td>12.5</td>\n",
       "      <td>28.84</td>\n",
       "      <td>[1328, 1074, 3323, 2984, 3389, 274, 3067, 2665...</td>\n",
       "      <td>22.5</td>\n",
       "    </tr>\n",
       "    <tr>\n",
       "      <th>3623</th>\n",
       "      <td>5.91</td>\n",
       "      <td>2015-12-24 17:22:09.869436</td>\n",
       "      <td>155</td>\n",
       "      <td>192</td>\n",
       "      <td>127</td>\n",
       "      <td>12.5</td>\n",
       "      <td>28.85</td>\n",
       "      <td>[3570, 772, 2541, 1385, 3366, 1434, 2069, 65, ...</td>\n",
       "      <td>19.3</td>\n",
       "    </tr>\n",
       "    <tr>\n",
       "      <th>1946</th>\n",
       "      <td>5.87</td>\n",
       "      <td>2015-12-22 23:41:59.577062</td>\n",
       "      <td>275</td>\n",
       "      <td>192</td>\n",
       "      <td>127</td>\n",
       "      <td>12.5</td>\n",
       "      <td>28.84</td>\n",
       "      <td>[4095, 64, 130, 4095, 4071, 2112, 792, 3709, 3...</td>\n",
       "      <td>22.7</td>\n",
       "    </tr>\n",
       "    <tr>\n",
       "      <th>177</th>\n",
       "      <td>5.99</td>\n",
       "      <td>2015-12-28 00:22:13.720824</td>\n",
       "      <td>215</td>\n",
       "      <td>192</td>\n",
       "      <td>127</td>\n",
       "      <td>12.5</td>\n",
       "      <td>29.23</td>\n",
       "      <td>[1999, 3476, 4095, 543, 1467, 4095, 520, 944, ...</td>\n",
       "      <td>17.7</td>\n",
       "    </tr>\n",
       "    <tr>\n",
       "      <th>1927</th>\n",
       "      <td>5.93</td>\n",
       "      <td>2015-12-22 04:28:08.398107</td>\n",
       "      <td>275</td>\n",
       "      <td>192</td>\n",
       "      <td>127</td>\n",
       "      <td>12.5</td>\n",
       "      <td>28.71</td>\n",
       "      <td>[4095, 723, 1335, 4095, 1770, 866, 115, 1562, ...</td>\n",
       "      <td>22.2</td>\n",
       "    </tr>\n",
       "  </tbody>\n",
       "</table>\n",
       "</div>"
      ],
      "text/plain": [
       "      battery_voltage                   datetime  gallons  pot_setting1  \\\n",
       "3584             5.84 2015-12-24 17:31:02.535500      155           192   \n",
       "3714             5.90 2015-12-24 17:41:36.319087      155           192   \n",
       "361              6.17 2015-12-24 05:22:36.673267      215           192   \n",
       "716              5.95 2015-12-22 06:43:32.625298      275           192   \n",
       "806              5.95 2015-12-22 21:24:56.463396      275           192   \n",
       "1132             5.83 2015-12-23 01:09:47.453722      275           192   \n",
       "3623             5.91 2015-12-24 17:22:09.869436      155           192   \n",
       "1946             5.87 2015-12-22 23:41:59.577062      275           192   \n",
       "177              5.99 2015-12-28 00:22:13.720824      215           192   \n",
       "1927             5.93 2015-12-22 04:28:08.398107      275           192   \n",
       "\n",
       "      pot_setting2  pot_setting3  pressure  \\\n",
       "3584           127          12.5     28.85   \n",
       "3714           127          12.5     28.86   \n",
       "361            127          12.5     28.30   \n",
       "716            127          12.5     28.69   \n",
       "806            127          12.5     28.80   \n",
       "1132           127          12.5     28.84   \n",
       "3623           127          12.5     28.85   \n",
       "1946           127          12.5     28.84   \n",
       "177            127          12.5     29.23   \n",
       "1927           127          12.5     28.71   \n",
       "\n",
       "                                                 sample  temperature  \n",
       "3584  [1350, 3388, 1337, 2196, 65, 3451, 1789, 3867,...         19.6  \n",
       "3714  [4014, 799, 2146, 2026, 3016, 1227, 1596, 71, ...         20.0  \n",
       "361   [2235, 790, 4095, 4095, 1406, 623, 3228, 1203,...         23.8  \n",
       "716   [2738, 3624, 174, 1883, 62, 4006, 1224, 3711, ...         22.5  \n",
       "806   [217, 559, 1710, 4095, 64, 2278, 2710, 879, 20...         22.8  \n",
       "1132  [1328, 1074, 3323, 2984, 3389, 274, 3067, 2665...         22.5  \n",
       "3623  [3570, 772, 2541, 1385, 3366, 1434, 2069, 65, ...         19.3  \n",
       "1946  [4095, 64, 130, 4095, 4071, 2112, 792, 3709, 3...         22.7  \n",
       "177   [1999, 3476, 4095, 543, 1467, 4095, 520, 944, ...         17.7  \n",
       "1927  [4095, 723, 1335, 4095, 1770, 866, 115, 1562, ...         22.2  "
      ]
     },
     "execution_count": 36,
     "metadata": {},
     "output_type": "execute_result"
    }
   ],
   "source": [
    "TEST_ROOT_DIR = '2015-12-21-OrangeTank'\n",
    "\n",
    "test_samples_dirs = filter(lambda d: 'Gallon' in d, os.listdir(TEST_ROOT_DIR))\n",
    "\n",
    "\n",
    "test_samples_df = pd.DataFrame(list(\n",
    "    itertools.chain.from_iterable((yield_gallon_dir(d, TEST_ROOT_DIR) for d in test_samples_dirs))\n",
    "))\n",
    "\n",
    "print test_samples_df.shape\n",
    "test_samples_df.sample(10)"
   ]
  },
  {
   "cell_type": "code",
   "execution_count": 39,
   "metadata": {
    "collapsed": false
   },
   "outputs": [],
   "source": [
    "X_test = vectorize(test_samples_df[features_names])\n",
    "y_test = test_samples_df.gallons.values"
   ]
  },
  {
   "cell_type": "markdown",
   "metadata": {},
   "source": [
    "## Проверка моделей"
   ]
  },
  {
   "cell_type": "markdown",
   "metadata": {},
   "source": [
    "### Linear regression"
   ]
  },
  {
   "cell_type": "code",
   "execution_count": 56,
   "metadata": {
    "collapsed": false,
    "scrolled": false
   },
   "outputs": [
    {
     "data": {
      "text/plain": [
       "LinearRegression(copy_X=True, fit_intercept=True, n_jobs=1, normalize=False)"
      ]
     },
     "execution_count": 56,
     "metadata": {},
     "output_type": "execute_result"
    }
   ],
   "source": [
    "model = sklearn.linear_model.LinearRegression(\n",
    "    copy_X=True, fit_intercept=True, n_jobs=1, normalize=False\n",
    ")\n",
    "model.fit(X_train, y_train)"
   ]
  },
  {
   "cell_type": "code",
   "execution_count": 57,
   "metadata": {
    "collapsed": false
   },
   "outputs": [
    {
     "name": "stdout",
     "output_type": "stream",
     "text": [
      "Train:\n",
      "\t MSE: 37.12\n",
      "\t MAE: 5.29\n",
      "Valid:\n",
      "\t MSE: 5421.94\n",
      "\t MAE: 46.62\n"
     ]
    },
    {
     "data": {
      "image/png": "[encoded data removed]",
      "text/plain": [
       "<matplotlib.figure.Figure at 0x7f61642e6c10>"
      ]
     },
     "metadata": {},
     "output_type": "display_data"
    }
   ],
   "source": [
    "regression_report_train_valid(model, X_valid, X_test, y_valid, y_test, fit=False)"
   ]
  },
  {
   "cell_type": "markdown",
   "metadata": {},
   "source": [
    "### Suppor Vector Regression (rbf kernel, parameters estimated by grid search cross-validation)"
   ]
  },
  {
   "cell_type": "code",
   "execution_count": 58,
   "metadata": {
    "collapsed": false
   },
   "outputs": [
    {
     "name": "stdout",
     "output_type": "stream",
     "text": [
      "Fitting 5 folds for each of 100 candidates, totalling 500 fits\n"
     ]
    },
    {
     "name": "stderr",
     "output_type": "stream",
     "text": [
      "[Parallel(n_jobs=4)]: Done 144 tasks      | elapsed:    2.8s\n",
      "[Parallel(n_jobs=4)]: Done 500 out of 500 | elapsed:   16.4s finished\n"
     ]
    },
    {
     "data": {
      "text/plain": [
       "GridSearchCV(cv=5, error_score='raise',\n",
       "       estimator=SVR(C=1.0, cache_size=200, coef0=0.0, degree=3, epsilon=0.1, gamma='auto',\n",
       "  kernel='rbf', max_iter=-1, shrinking=True, tol=0.001, verbose=False),\n",
       "       fit_params={}, iid=True, n_jobs=4,\n",
       "       param_grid={'cache_size': [1], 'kernel': ['rbf'], 'C': [0.0009765625, 0.00390625, 0.015625, 0.0625, 0.25, 1, 4, 16, 64, 256], 'gamma': [0.0009765625, 0.00390625, 0.015625, 0.0625, 0.25, 1, 4, 16, 64, 256]},\n",
       "       pre_dispatch='2*n_jobs', refit=True, scoring=None, verbose=True)"
      ]
     },
     "execution_count": 58,
     "metadata": {},
     "output_type": "execute_result"
    }
   ],
   "source": [
    "model = sklearn.grid_search.GridSearchCV(\n",
    "    estimator=sklearn.svm.SVR(),\n",
    "    param_grid={\n",
    "        'kernel': ['rbf'],\n",
    "        'C': [4**i for i in range(-5, 5)],\n",
    "        'gamma': [4**i for i in range(-5, 5)],\n",
    "        'cache_size': [1]\n",
    "    },\n",
    "    refit=True,\n",
    "    n_jobs=4,\n",
    "    cv=5,\n",
    "    verbose=True\n",
    ")\n",
    "model.fit(X_train, y_train)"
   ]
  },
  {
   "cell_type": "code",
   "execution_count": 59,
   "metadata": {
    "collapsed": false,
    "scrolled": true
   },
   "outputs": [
    {
     "name": "stdout",
     "output_type": "stream",
     "text": [
      "Train:\n",
      "\t MSE: 0.62\n",
      "\t MAE: 0.51\n",
      "Valid:\n",
      "\t MSE: 5144.70\n",
      "\t MAE: 45.74\n"
     ]
    },
    {
     "data": {
      "image/png": "[encoded data removed]",
      "text/plain": [
       "<matplotlib.figure.Figure at 0x7f6166f31f50>"
      ]
     },
     "metadata": {},
     "output_type": "display_data"
    }
   ],
   "source": [
    "regression_report_train_valid(model, X_valid, X_test, y_valid, y_test, fit=False)"
   ]
  },
  {
   "cell_type": "code",
   "execution_count": 71,
   "metadata": {
    "collapsed": false
   },
   "outputs": [
    {
     "name": "stdout",
     "output_type": "stream",
     "text": [
      "Train:\n",
      "\t MSE: 5144.70\n",
      "\t MAE: 45.74\n",
      "Valid:\n",
      "\t MSE: 123.31\n",
      "\t MAE: 10.91\n"
     ]
    },
    {
     "data": {
      "image/png": "[encoded data removed]",
      "text/plain": [
       "<matplotlib.figure.Figure at 0x7f61670d7a10>"
      ]
     },
     "metadata": {},
     "output_type": "display_data"
    }
   ],
   "source": [
    "regression_report_train_valid(model, X_test, X_test[y_test > 250,:], y_test, y_test[y_test > 250], fit=False)"
   ]
  }
 ],
 "metadata": {
  "kernelspec": {
   "display_name": "Python 2",
   "language": "python",
   "name": "python2"
  },
  "language_info": {
   "codemirror_mode": {
    "name": "ipython",
    "version": 2
   },
   "file_extension": ".py",
   "mimetype": "text/x-python",
   "name": "python",
   "nbconvert_exporter": "python",
   "pygments_lexer": "ipython2",
   "version": "2.7.9"
  }
 },
 "nbformat": 4,
 "nbformat_minor": 0
}
